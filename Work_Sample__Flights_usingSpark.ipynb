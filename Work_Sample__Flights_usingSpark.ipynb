{
  "cells": [
    {
      "cell_type": "markdown",
      "metadata": {
        "id": "ebeaa91c"
      },
      "source": [
        "# Group project\n",
        "\n",
        "By delivering this notebook, we confirm that the group project was developed by the following students.\n",
        "\n",
        "## Student 1: George McGuigan\n",
        "\n",
        "## Student 2: Isabella Russo\n"
      ],
      "id": "ebeaa91c"
    },
    {
      "cell_type": "markdown",
      "metadata": {
        "id": "d9e90bac"
      },
      "source": [
        "The group project will focus on analysing data on flights in the US.\n",
        "\n",
        "Unless otherwise specified, the problems can be solved using either Spark or Pandas.\n",
        "\n",
        "Some useful links:\n",
        "\n",
        "* [Spark web site](https://spark.apache.org/)\n",
        "\n",
        "* [Spark MLlib main page](https://spark.apache.org/mllib/)\n",
        "* [Spark MLlib guide](https://spark.apache.org/docs/latest/ml-guide.html)\n",
        "\n",
        "* [Spark GraphX main page](https://spark.apache.org/graphx/)\n",
        "* [Spark GraphFrames main page](https://graphframes.github.io/graphframes/docs/_site/index.html)\n",
        "* [Spark GraphFrames User Guide](https://graphframes.github.io/graphframes/docs/_site/user-guide.html)\n"
      ],
      "id": "d9e90bac"
    },
    {
      "cell_type": "markdown",
      "metadata": {
        "id": "b6f57801"
      },
      "source": [
        "## Colab setup\n",
        "\n",
        "The following cell will install Spark, if the notebook is running on COLAB. Before running this cell, you should access the following link [https://drive.google.com/drive/folders/1hylIwkzcOWjYMQW2wWSVRmAN9mEyGToP?usp=sharing](https://drive.google.com/drive/folders/1hylIwkzcOWjYMQW2wWSVRmAN9mEyGToP?usp=sharing)"
      ],
      "id": "b6f57801"
    },
    {
      "cell_type": "code",
      "execution_count": 1,
      "metadata": {
        "colab": {
          "base_uri": "https://localhost:8080/"
        },
        "id": "5fae91c0",
        "outputId": "427ac201-211f-49c5-dc0f-56a2a8db685e"
      },
      "outputs": [
        {
          "output_type": "stream",
          "name": "stdout",
          "text": [
            "Reading package lists... Done\n",
            "Building dependency tree       \n",
            "Reading state information... Done\n",
            "The following package was automatically installed and is no longer required:\n",
            "  libnvidia-common-460\n",
            "Use 'apt autoremove' to remove it.\n",
            "The following additional packages will be installed:\n",
            "  openjdk-8-jre-headless\n",
            "Suggested packages:\n",
            "  openjdk-8-demo openjdk-8-source libnss-mdns fonts-dejavu-extra\n",
            "  fonts-ipafont-gothic fonts-ipafont-mincho fonts-wqy-microhei\n",
            "  fonts-wqy-zenhei fonts-indic\n",
            "The following NEW packages will be installed:\n",
            "  openjdk-8-jdk-headless openjdk-8-jre-headless\n",
            "0 upgraded, 2 newly installed, 0 to remove and 49 not upgraded.\n",
            "Need to get 36.5 MB of archives.\n",
            "After this operation, 143 MB of additional disk space will be used.\n",
            "Get:1 http://archive.ubuntu.com/ubuntu bionic-updates/universe amd64 openjdk-8-jre-headless amd64 8u312-b07-0ubuntu1~18.04 [28.2 MB]\n",
            "Get:2 http://archive.ubuntu.com/ubuntu bionic-updates/universe amd64 openjdk-8-jdk-headless amd64 8u312-b07-0ubuntu1~18.04 [8,298 kB]\n",
            "Fetched 36.5 MB in 39s (937 kB/s)\n",
            "Selecting previously unselected package openjdk-8-jre-headless:amd64.\n",
            "(Reading database ... 155653 files and directories currently installed.)\n",
            "Preparing to unpack .../openjdk-8-jre-headless_8u312-b07-0ubuntu1~18.04_amd64.deb ...\n",
            "Unpacking openjdk-8-jre-headless:amd64 (8u312-b07-0ubuntu1~18.04) ...\n",
            "Selecting previously unselected package openjdk-8-jdk-headless:amd64.\n",
            "Preparing to unpack .../openjdk-8-jdk-headless_8u312-b07-0ubuntu1~18.04_amd64.deb ...\n",
            "Unpacking openjdk-8-jdk-headless:amd64 (8u312-b07-0ubuntu1~18.04) ...\n",
            "Setting up openjdk-8-jre-headless:amd64 (8u312-b07-0ubuntu1~18.04) ...\n",
            "update-alternatives: using /usr/lib/jvm/java-8-openjdk-amd64/jre/bin/orbd to provide /usr/bin/orbd (orbd) in auto mode\n",
            "update-alternatives: using /usr/lib/jvm/java-8-openjdk-amd64/jre/bin/servertool to provide /usr/bin/servertool (servertool) in auto mode\n",
            "update-alternatives: using /usr/lib/jvm/java-8-openjdk-amd64/jre/bin/tnameserv to provide /usr/bin/tnameserv (tnameserv) in auto mode\n",
            "Setting up openjdk-8-jdk-headless:amd64 (8u312-b07-0ubuntu1~18.04) ...\n",
            "update-alternatives: using /usr/lib/jvm/java-8-openjdk-amd64/bin/idlj to provide /usr/bin/idlj (idlj) in auto mode\n",
            "update-alternatives: using /usr/lib/jvm/java-8-openjdk-amd64/bin/wsimport to provide /usr/bin/wsimport (wsimport) in auto mode\n",
            "update-alternatives: using /usr/lib/jvm/java-8-openjdk-amd64/bin/jsadebugd to provide /usr/bin/jsadebugd (jsadebugd) in auto mode\n",
            "update-alternatives: using /usr/lib/jvm/java-8-openjdk-amd64/bin/native2ascii to provide /usr/bin/native2ascii (native2ascii) in auto mode\n",
            "update-alternatives: using /usr/lib/jvm/java-8-openjdk-amd64/bin/javah to provide /usr/bin/javah (javah) in auto mode\n",
            "update-alternatives: using /usr/lib/jvm/java-8-openjdk-amd64/bin/hsdb to provide /usr/bin/hsdb (hsdb) in auto mode\n",
            "update-alternatives: using /usr/lib/jvm/java-8-openjdk-amd64/bin/clhsdb to provide /usr/bin/clhsdb (clhsdb) in auto mode\n",
            "update-alternatives: using /usr/lib/jvm/java-8-openjdk-amd64/bin/xjc to provide /usr/bin/xjc (xjc) in auto mode\n",
            "update-alternatives: using /usr/lib/jvm/java-8-openjdk-amd64/bin/schemagen to provide /usr/bin/schemagen (schemagen) in auto mode\n",
            "update-alternatives: using /usr/lib/jvm/java-8-openjdk-amd64/bin/extcheck to provide /usr/bin/extcheck (extcheck) in auto mode\n",
            "update-alternatives: using /usr/lib/jvm/java-8-openjdk-amd64/bin/jhat to provide /usr/bin/jhat (jhat) in auto mode\n",
            "update-alternatives: using /usr/lib/jvm/java-8-openjdk-amd64/bin/wsgen to provide /usr/bin/wsgen (wsgen) in auto mode\n",
            "Looking in indexes: https://pypi.org/simple, https://us-python.pkg.dev/colab-wheels/public/simple/\n",
            "Collecting pyspark==3.1.2\n",
            "  Downloading pyspark-3.1.2.tar.gz (212.4 MB)\n",
            "\u001b[K     |████████████████████████████████| 212.4 MB 59 kB/s \n",
            "\u001b[?25hCollecting py4j==0.10.9\n",
            "  Downloading py4j-0.10.9-py2.py3-none-any.whl (198 kB)\n",
            "\u001b[K     |████████████████████████████████| 198 kB 61.4 MB/s \n",
            "\u001b[?25hBuilding wheels for collected packages: pyspark\n",
            "  Building wheel for pyspark (setup.py) ... \u001b[?25l\u001b[?25hdone\n",
            "  Created wheel for pyspark: filename=pyspark-3.1.2-py2.py3-none-any.whl size=212880769 sha256=0162dfa23ab6a17428f65f978f23c98eaefd948bb2d8322d06fc7b1acc4757b3\n",
            "  Stored in directory: /root/.cache/pip/wheels/a5/0a/c1/9561f6fecb759579a7d863dcd846daaa95f598744e71b02c77\n",
            "Successfully built pyspark\n",
            "Installing collected packages: py4j, pyspark\n",
            "Successfully installed py4j-0.10.9 pyspark-3.1.2\n",
            "--2022-07-28 22:20:51--  https://repos.spark-packages.org/graphframes/graphframes/0.8.2-spark3.1-s_2.12/graphframes-0.8.2-spark3.1-s_2.12.jar\n",
            "Resolving repos.spark-packages.org (repos.spark-packages.org)... 18.67.76.27, 18.67.76.29, 18.67.76.22, ...\n",
            "Connecting to repos.spark-packages.org (repos.spark-packages.org)|18.67.76.27|:443... connected.\n",
            "HTTP request sent, awaiting response... 200 OK\n",
            "Length: 247882 (242K) [binary/octet-stream]\n",
            "Saving to: ‘graphframes-0.8.2-spark3.1-s_2.12.jar’\n",
            "\n",
            "graphframes-0.8.2-s 100%[===================>] 242.07K  --.-KB/s    in 0.005s  \n",
            "\n",
            "2022-07-28 22:20:51 (46.7 MB/s) - ‘graphframes-0.8.2-spark3.1-s_2.12.jar’ saved [247882/247882]\n",
            "\n",
            "Mounted at /content/drive\n"
          ]
        }
      ],
      "source": [
        "#Run this cell to install Spark on Colab\n",
        "import os\n",
        "\n",
        "if 'COLAB_GPU' in os.environ : \n",
        "    !apt-get install openjdk-8-jdk-headless\n",
        "    !pip install pyspark==3.1.2\n",
        "    !wget https://repos.spark-packages.org/graphframes/graphframes/0.8.2-spark3.1-s_2.12/graphframes-0.8.2-spark3.1-s_2.12.jar\n",
        "    os.environ['PYSPARK_SUBMIT_ARGS'] = '--jars graphframes-0.8.2-spark3.1-s_2.12.jar pyspark-shell'\n",
        "\n",
        "    from google.colab import drive\n",
        "    drive.mount('/content/drive')\n",
        "\n"
      ],
      "id": "5fae91c0"
    },
    {
      "cell_type": "markdown",
      "metadata": {
        "id": "9b22fa1b"
      },
      "source": [
        "## Local setup\n",
        "\n",
        "For running the group project locally, you should create a directory named **data** in the directory where you have this notebook. Then, you should download to the **data** directory the files in the following link: [https://drive.google.com/drive/folders/1hylIwkzcOWjYMQW2wWSVRmAN9mEyGToP?usp=sharing](https://drive.google.com/drive/folders/1hylIwkzcOWjYMQW2wWSVRmAN9mEyGToP?usp=sharing)."
      ],
      "id": "9b22fa1b"
    },
    {
      "cell_type": "markdown",
      "metadata": {
        "id": "83396505"
      },
      "source": [
        "## Initialization"
      ],
      "id": "83396505"
    },
    {
      "cell_type": "markdown",
      "metadata": {
        "id": "d3aac495"
      },
      "source": [
        "Import libraries. "
      ],
      "id": "d3aac495"
    },
    {
      "cell_type": "code",
      "execution_count": null,
      "metadata": {
        "colab": {
          "base_uri": "https://localhost:8080/"
        },
        "id": "69621cc6",
        "outputId": "478c856b-cc2f-44d6-b8da-c82dbaddd408"
      },
      "outputs": [
        {
          "name": "stdout",
          "output_type": "stream",
          "text": [
            "3.1.2\n"
          ]
        }
      ],
      "source": [
        "import os\n",
        "import time\n",
        "import pandas as pd\n",
        "import numpy as np\n",
        "import matplotlib.pyplot as plt\n",
        "import pyspark\n",
        "from pyspark.sql import SparkSession\n",
        "from pyspark.sql.types import *\n",
        "from pyspark.sql.functions import *\n",
        "from pyspark.ml.linalg import Vectors\n",
        "\n",
        "plt.style.use('seaborn')\n",
        "\n",
        "print(pyspark.__version__)\n"
      ],
      "id": "69621cc6"
    },
    {
      "cell_type": "markdown",
      "metadata": {
        "id": "ee5839cf"
      },
      "source": [
        "Let's start spark session and set *log* level to ERROR."
      ],
      "id": "ee5839cf"
    },
    {
      "cell_type": "code",
      "execution_count": null,
      "metadata": {
        "id": "6ad40951"
      },
      "outputs": [],
      "source": [
        "spark = SparkSession.builder \\\n",
        "    .master(\"local\") \\\n",
        "    .appName(\"Group project\") \\\n",
        "    .config(\"spark.sql.execution.arrow.pyspark.enabled\", \"true\") \\\n",
        "    .getOrCreate()\n",
        "\n",
        "if 'COLAB_GPU' in os.environ : \n",
        "    spark.sparkContext.addPyFile('graphframes-0.8.2-spark3.1-s_2.12.jar')\n",
        "elif 'DATABRICKS_RUNTIME_VERSION' in os.environ : \n",
        "    # TO BE COMPLETE\n",
        "    ;\n",
        "else:\n",
        "    spark.sparkContext.addPyFile('/usr/local/spark/jars/graphframes-0.8.1-spark3.0-s_2.12.jar')\n",
        "\n",
        "\n",
        "spark.sparkContext.setLogLevel(\"ERROR\")"
      ],
      "id": "6ad40951"
    },
    {
      "cell_type": "markdown",
      "metadata": {
        "id": "e23071d0"
      },
      "source": [
        "## Data selection\n",
        "\n",
        "This cell controls the dataset you will be using. Note that this cell will control the path to the files, dependening on the platform you are using to run the code.\n"
      ],
      "id": "e23071d0"
    },
    {
      "cell_type": "code",
      "execution_count": null,
      "metadata": {
        "id": "c836342f"
      },
      "outputs": [],
      "source": [
        "# Comment the following \n",
        "flightsF = \"sample.csv\"\n",
        "#flightsF = \"complete.csv\"\n",
        "#flightsF = \"data-2009.csv\"\n",
        "#flightsF = \"data-2010.csv\"\n",
        "#flightsF = \"data-2011.csv\"\n",
        "#flightsF = \"data-2012.csv\"\n",
        "#flightsF = \"data-2013.csv\"\n",
        "#flightsF = \"data-2014.csv\"\n",
        "#flightsF = \"data-2015.csv\"\n",
        "#flightsF = \"data-2016.csv\"\n",
        "#flightsF = \"data-2017.csv\"\n",
        "#flightsF = \"data-2018.csv\"\n",
        "\n",
        "if 'COLAB_GPU' in os.environ : \n",
        "    FLIGHTS_FILENAME = \"/content/drive/MyDrive/data/\" + flightsF\n",
        "    AIRPORTS_FILENAME = \"/content/drive/MyDrive/data/airports.csv\"\n",
        "    HOLIDAYS_FILENAME = \"/content/drive/MyDrive/data/holidays.csv\"\n",
        "elif 'DATABRICKS_RUNTIME_VERSION' in os.environ : \n",
        "    # TO BE COMPLETE\n",
        "    ;\n",
        "else:\n",
        "    FLIGHTS_FILENAME = os.path.join( \"data\", flightsF)\n",
        "    AIRPORTS_FILENAME = os.path.join( \"data\", \"airports.csv\")\n",
        "    HOLIDAYS_FILENAME = os.path.join( \"data\", \"holidays.csv\")\n",
        "\n",
        "\n"
      ],
      "id": "c836342f"
    },
    {
      "cell_type": "markdown",
      "metadata": {
        "id": "198a44fe"
      },
      "source": [
        "## Datasets\n",
        "\n",
        "This section describes the datasets you have available for your analysis."
      ],
      "id": "198a44fe"
    },
    {
      "cell_type": "markdown",
      "metadata": {
        "id": "514ef634"
      },
      "source": [
        "### Flights\n",
        "\n",
        "The flights dataset, generated from data available at [https://www.transtats.bts.gov/DataIndex.asp](https://www.transtats.bts.gov/DataIndex.asp), includes the following columns:\n",
        "\n",
        "* FL_DATE: date of the flight (format: yyyy-mm-dd)\n",
        "* OP_CARRIER: carrier code\n",
        "* OP_CARRIER_FL_NUM: carrier flight number\n",
        "* ORIGIN: origin airport (using IATA codes)\n",
        "* DEST: destination airport (using IATA codes)\n",
        "* CRS_DEP_TIME: scheduled local departure time (format for all times: hh:mm)\n",
        "* DEP_TIME: actual departure time\n",
        "* DEP_DELAY: departure delay, in minutes\n",
        "* TAXI_OUT: taxi out time\n",
        "* WHEELS_OFF: actual local wheel off time\n",
        "* WHEELS_ON: actual local wheel on time\n",
        "* TAXI_IN: actual local taxi in time\n",
        "* CRS_ARR_TIME: scheduled local arrival time\n",
        "* ARR_TIME: actual arrival time\n",
        "* ARR_DELAY: arrival delay, in minutes\n",
        "* CANCELLED: 1 if the flight has been cancelled; 0 otherwise\n",
        "* CANCELLATION_CODE: code of cancelation (A = carrier, B = weather, C = NAS, D = security)\n",
        "* DIVERTED: 1 if the flight has been diverted; 0 otherwise\n",
        "* CRS_ELAPSED_TIME: estimated elapsed time\n",
        "* ACTUAL_ELAPSED_TIME: actual elapsed time\n",
        "* AIR_TIME: flight time, in minutes\n",
        "* DISTANCE: flight distance, in miles\n",
        "* CARRIER_DELAY: delay due to carrier, in minutes\n",
        "* WEATHER_DELAY: delay due to weather, in minutes\n",
        "* NAS_DELAY: delay due to NAS, in minutes\n",
        "* SECURITY_DELAY: delay due to security, in minutes\n",
        "* LATE_AIRCRAFT_DELAY: delay due to late aircraft, in minutes\n",
        "\n",
        "The following data files are available:\n",
        "\n",
        "* complete.csv : complete data set, including data from 2009 to 2018\n",
        "* sample.csv : sample data set, including data from July 1 to July 15, from years 2009 to 2018\n",
        "* data-20xx.csv : data set for a particular year\n",
        "\n",
        "Load the dataset into flightsDF dataframe and register flights under view name **flights**. We are setting the schema programmatically, because inferring the schema in a very large dataframe is slow.\n"
      ],
      "id": "514ef634"
    },
    {
      "cell_type": "code",
      "execution_count": null,
      "metadata": {
        "colab": {
          "base_uri": "https://localhost:8080/"
        },
        "id": "a4ac960a",
        "outputId": "3dc4d9af-e4f0-40c2-a876-537c2fb0d60a"
      },
      "outputs": [
        {
          "name": "stdout",
          "output_type": "stream",
          "text": [
            "+----------+----------+-----------------+------+----+------------+--------+---------+--------+----------+---------+-------+------------+--------+---------+---------+-----------------+--------+----------------+-------------------+--------+--------+-------------+-------------+---------+--------------+-------------------+\n",
            "|   FL_DATE|OP_CARRIER|OP_CARRIER_FL_NUM|ORIGIN|DEST|CRS_DEP_TIME|DEP_TIME|DEP_DELAY|TAXI_OUT|WHEELS_OFF|WHEELS_ON|TAXI_IN|CRS_ARR_TIME|ARR_TIME|ARR_DELAY|CANCELLED|CANCELLATION_CODE|DIVERTED|CRS_ELAPSED_TIME|ACTUAL_ELAPSED_TIME|AIR_TIME|DISTANCE|CARRIER_DELAY|WEATHER_DELAY|NAS_DELAY|SECURITY_DELAY|LATE_AIRCRAFT_DELAY|\n",
            "+----------+----------+-----------------+------+----+------------+--------+---------+--------+----------+---------+-------+------------+--------+---------+---------+-----------------+--------+----------------+-------------------+--------+--------+-------------+-------------+---------+--------------+-------------------+\n",
            "|2009-07-01|        XE|             5660|   ORD| ROC|       07:17|   07:11|       -6|      12|     07:23|    09:39|      4|       09:56|   09:43|      -13|        0|             null|       0|              99|                 92|      76|     528|         null|         null|     null|          null|               null|\n",
            "|2009-07-01|        XE|             5661|   ROC| ORD|       09:48|   09:43|       -5|       7|     09:50|    10:11|     22|       10:38|   10:33|       -5|        0|             null|       0|             110|                110|      81|     528|         null|         null|     null|          null|               null|\n",
            "|2009-07-01|        XE|             5662|   ORD| SDF|       10:26|   10:22|       -4|       9|     10:31|    12:20|      7|       12:50|   12:27|      -23|        0|             null|       0|              84|                 65|      49|     286|         null|         null|     null|          null|               null|\n",
            "+----------+----------+-----------------+------+----+------------+--------+---------+--------+----------+---------+-------+------------+--------+---------+---------+-----------------+--------+----------------+-------------------+--------+--------+-------------+-------------+---------+--------------+-------------------+\n",
            "only showing top 3 rows\n",
            "\n"
          ]
        }
      ],
      "source": [
        "flightsSchema = StructType([\n",
        "    StructField(\"FL_DATE\", DateType()),\n",
        "    StructField(\"OP_CARRIER\", StringType()),\n",
        "    StructField(\"OP_CARRIER_FL_NUM\", IntegerType()),\n",
        "    StructField(\"ORIGIN\", StringType()),\n",
        "    StructField(\"DEST\", StringType()),\n",
        "    StructField(\"CRS_DEP_TIME\", StringType()),\n",
        "    StructField(\"DEP_TIME\", StringType()),\n",
        "    StructField(\"DEP_DELAY\", IntegerType()),\n",
        "    StructField(\"TAXI_OUT\", IntegerType()),\n",
        "    StructField(\"WHEELS_OFF\", StringType()),\n",
        "    StructField(\"WHEELS_ON\", StringType()),\n",
        "    StructField(\"TAXI_IN\", IntegerType()),\n",
        "    StructField(\"CRS_ARR_TIME\", StringType()),\n",
        "    StructField(\"ARR_TIME\", StringType()),\n",
        "    StructField(\"ARR_DELAY\", IntegerType()),\n",
        "    StructField(\"CANCELLED\", IntegerType()),\n",
        "    StructField(\"CANCELLATION_CODE\", StringType()),\n",
        "    StructField(\"DIVERTED\", IntegerType()),\n",
        "    StructField(\"CRS_ELAPSED_TIME\", IntegerType()),\n",
        "    StructField(\"ACTUAL_ELAPSED_TIME\", IntegerType()),\n",
        "    StructField(\"AIR_TIME\", IntegerType()),\n",
        "    StructField(\"DISTANCE\", IntegerType()),\n",
        "    StructField(\"CARRIER_DELAY\", IntegerType()),\n",
        "    StructField(\"WEATHER_DELAY\", IntegerType()),\n",
        "    StructField(\"NAS_DELAY\", IntegerType()),\n",
        "    StructField(\"SECURITY_DELAY\", IntegerType()),\n",
        "    StructField(\"LATE_AIRCRAFT_DELAY\", IntegerType())\n",
        "    ])\n",
        "\n",
        "flightsDF = spark.read.option(\"header\", True).schema(flightsSchema).csv(FLIGHTS_FILENAME)\n",
        "\n",
        "flightsDF.createOrReplaceTempView(\"flights\")\n",
        "\n",
        "flightsDF.show(3)"
      ],
      "id": "a4ac960a"
    },
    {
      "cell_type": "markdown",
      "metadata": {
        "id": "3aaea788"
      },
      "source": [
        "### Airports\n",
        "\n",
        "The airports dataset includes the information about US airports - soure: [https://datahub.io/core/airport-codes](https://datahub.io/core/airport-codes).\n",
        "\n",
        "This dataset includes the following columns:\n",
        "\n",
        "* ident: identifier\n",
        "* type: type of airport\n",
        "* name: name of airport\n",
        "* elevation_ft: altitude, in feets\n",
        "* continent: code of continent\n",
        "* iso_country: coide of country\n",
        "* iso_regio: code of region\n",
        "* municipality: city\n",
        "* gps_code: code of GPS\n",
        "* iata_code: IATA code of aurport\n",
        "* local_code: local code of airport\n",
        "* coordinates: coordinates of airport\n",
        "\n",
        "Load the dataset into airportDF dataframe and register airports under view name **airports**.\n"
      ],
      "id": "3aaea788"
    },
    {
      "cell_type": "code",
      "execution_count": null,
      "metadata": {
        "colab": {
          "base_uri": "https://localhost:8080/"
        },
        "id": "d558994b",
        "outputId": "397fcdc1-af60-4357-ba39-8fb81f60769e"
      },
      "outputs": [
        {
          "name": "stdout",
          "output_type": "stream",
          "text": [
            "+-----+-------------+--------------------+------------+---------+-----------+----------+------------+--------+---------+----------+--------------------+\n",
            "|ident|         type|                name|elevation_ft|continent|iso_country|iso_region|municipality|gps_code|iata_code|local_code|         coordinates|\n",
            "+-----+-------------+--------------------+------------+---------+-----------+----------+------------+--------+---------+----------+--------------------+\n",
            "|  00A|     heliport|   Total Rf Heliport|          11|       NA|         US|     US-PA|    Bensalem|     00A|     null|       00A|-74.9336013793945...|\n",
            "| 00AA|small_airport|Aero B Ranch Airport|        3435|       NA|         US|     US-KS|       Leoti|    00AA|     null|      00AA|-101.473911, 38.7...|\n",
            "| 00AK|small_airport|        Lowell Field|         450|       NA|         US|     US-AK|Anchor Point|    00AK|     null|      00AK|-151.695999146, 5...|\n",
            "+-----+-------------+--------------------+------------+---------+-----------+----------+------------+--------+---------+----------+--------------------+\n",
            "only showing top 3 rows\n",
            "\n"
          ]
        }
      ],
      "source": [
        "airportsDF = spark.read.option(\"header\", True).option(\"inferSchema\",True).csv(AIRPORTS_FILENAME)\n",
        "\n",
        "airportsDF.createOrReplaceTempView(\"airports\")\n",
        "\n",
        "airportsDF.show(3)\n"
      ],
      "id": "d558994b"
    },
    {
      "cell_type": "markdown",
      "metadata": {
        "id": "122d4c09"
      },
      "source": [
        "Exemplify how you can plot information about airports."
      ],
      "id": "122d4c09"
    },
    {
      "cell_type": "code",
      "execution_count": null,
      "metadata": {
        "colab": {
          "base_uri": "https://localhost:8080/",
          "height": 366
        },
        "id": "892455de",
        "outputId": "4d3da2d5-f430-43ad-dfb4-b07c701638c0"
      },
      "outputs": [
        {
          "name": "stdout",
          "output_type": "stream",
          "text": [
            "Plotting airport location - using altitude for different color\n"
          ]
        },
        {
          "data": {
            "text/plain": [
              "<matplotlib.axes._subplots.AxesSubplot at 0x7f122e52ee50>"
            ]
          },
          "execution_count": 82,
          "metadata": {},
          "output_type": "execute_result"
        },
        {
          "data": {
            "image/png": "[encoded data removed]",
            "text/plain": [
              "<Figure size 576x396 with 2 Axes>"
            ]
          },
          "metadata": {},
          "output_type": "display_data"
        }
      ],
      "source": [
        "airportLocDF = spark.sql(\"\"\"SELECT FLOAT(TRIM(SUBSTRING_INDEX(coordinates,',',1))) AS lon,\n",
        "                                    FLOAT(TRIM(SUBSTRING_INDEX(coordinates,',',-1))) AS lat,\n",
        "                                    elevation_ft AS val\n",
        "                        FROM airports \n",
        "                        WHERE type = 'large_airport' AND continent = 'NA' AND iso_country = 'US'\"\"\")\n",
        "\n",
        "print('Plotting airport location - using altitude for different color')\n",
        "airportLocPD = airportLocDF.toPandas()\n",
        "airportLocPD.plot(x=\"lon\",y=\"lat\",c=\"val\",s=10,cmap=\"rainbow\",kind=\"scatter\")\n"
      ],
      "id": "892455de"
    },
    {
      "cell_type": "markdown",
      "metadata": {
        "id": "e9c5d9b9"
      },
      "source": [
        "### Public holidays\n",
        "\n",
        "Dates of public holidays in the US.\n",
        "\n",
        "This dataset includes the following columns:\n",
        "\n",
        "* Date: date (format: yyyy-mm-dd)\n",
        "* Holiday: name of the holiday\n",
        "* WeekDay: day of week\n",
        "* Month: month (1-12)\n",
        "* Day: day (1-31)\n",
        "* Year: year (2002-2021)\n",
        "\n",
        "Load the dataset into holidaysDF dataframe and register holidays under view name **holidays**.\n"
      ],
      "id": "e9c5d9b9"
    },
    {
      "cell_type": "code",
      "execution_count": null,
      "metadata": {
        "colab": {
          "base_uri": "https://localhost:8080/"
        },
        "id": "d9f5f8df",
        "outputId": "e71aa140-a8f1-4e25-e476-07d2d1da0cb1"
      },
      "outputs": [
        {
          "name": "stdout",
          "output_type": "stream",
          "text": [
            "+----------+-----------+-------+-----+---+----+\n",
            "|      Date|    Holiday|WeekDay|Month|Day|Year|\n",
            "+----------+-----------+-------+-----+---+----+\n",
            "|2004-07-04|4th of July| Sunday|    7|  4|2004|\n",
            "|2005-07-04|4th of July| Monday|    7|  4|2005|\n",
            "|2006-07-04|4th of July|Tuesday|    7|  4|2006|\n",
            "+----------+-----------+-------+-----+---+----+\n",
            "only showing top 3 rows\n",
            "\n"
          ]
        }
      ],
      "source": [
        "holidaysDF = spark.read.option(\"header\", True).option(\"inferSchema\",True).csv(HOLIDAYS_FILENAME)\n",
        "\n",
        "holidaysDF.createOrReplaceTempView(\"holidays\")\n",
        "\n",
        "holidaysDF.show(3)\n"
      ],
      "id": "d9f5f8df"
    },
    {
      "cell_type": "code",
      "execution_count": null,
      "metadata": {
        "id": "G0mEq4m6KwwS"
      },
      "outputs": [],
      "source": [
        ""
      ],
      "id": "G0mEq4m6KwwS"
    },
    {
      "cell_type": "markdown",
      "metadata": {
        "id": "47dcbef8"
      },
      "source": [
        "## Problem 0 [1 point]\n",
        "\n",
        "We start by executing some simple statistics to compare the execution time between Spark and Pandas.\n"
      ],
      "id": "47dcbef8"
    },
    {
      "cell_type": "markdown",
      "metadata": {
        "id": "65575f27"
      },
      "source": [
        "### Code: Spark"
      ],
      "id": "65575f27"
    },
    {
      "cell_type": "code",
      "execution_count": null,
      "metadata": {
        "colab": {
          "base_uri": "https://localhost:8080/"
        },
        "id": "782b53bb",
        "outputId": "3e71b9f6-59d7-4d8e-b4c1-a02b44fee735"
      },
      "outputs": [
        {
          "name": "stdout",
          "output_type": "stream",
          "text": [
            "+----------+-----------+\n",
            "|OP_CARRIER|num_flights|\n",
            "+----------+-----------+\n",
            "|        UA|     192622|\n",
            "|        NK|      25439|\n",
            "|        AA|     266003|\n",
            "|        NW|      14128|\n",
            "|        EV|     185522|\n",
            "|        B6|      97885|\n",
            "|        DL|     303978|\n",
            "|        OO|     240809|\n",
            "|        F9|      36190|\n",
            "|        YV|      38181|\n",
            "|        US|      84928|\n",
            "|        MQ|     114668|\n",
            "|        OH|      24677|\n",
            "|        HA|      29920|\n",
            "|        XE|      31772|\n",
            "|        G4|       5123|\n",
            "|        YX|      12706|\n",
            "|        AS|      68912|\n",
            "|        CO|      21141|\n",
            "|        FL|      43105|\n",
            "+----------+-----------+\n",
            "only showing top 20 rows\n",
            "\n",
            "Runtime = 7.524178981781006\n"
          ]
        }
      ],
      "source": [
        "start_time = time.time()\n",
        "\n",
        "flightsSchema = StructType([\n",
        "    StructField(\"FL_DATE\", DateType()),\n",
        "    StructField(\"OP_CARRIER\", StringType()),\n",
        "    StructField(\"OP_CARRIER_FL_NUM\", IntegerType()),\n",
        "    StructField(\"ORIGIN\", StringType()),\n",
        "    StructField(\"DEST\", StringType()),\n",
        "    StructField(\"CRS_DEP_TIME\", StringType()),\n",
        "    StructField(\"DEP_TIME\", StringType()),\n",
        "    StructField(\"DEP_DELAY\", IntegerType()),\n",
        "    StructField(\"TAXI_OUT\", IntegerType()),\n",
        "    StructField(\"WHEELS_OFF\", StringType()),\n",
        "    StructField(\"WHEELS_ON\", StringType()),\n",
        "    StructField(\"TAXI_IN\", IntegerType()),\n",
        "    StructField(\"CRS_ARR_TIME\", StringType()),\n",
        "    StructField(\"ARR_TIME\", StringType()),\n",
        "    StructField(\"ARR_DELAY\", IntegerType()),\n",
        "    StructField(\"CANCELLED\", IntegerType()),\n",
        "    StructField(\"CANCELLATION_CODE\", StringType()),\n",
        "    StructField(\"DIVERTED\", IntegerType()),\n",
        "    StructField(\"CRS_ELAPSED_TIME\", IntegerType()),\n",
        "    StructField(\"ACTUAL_ELAPSED_TIME\", IntegerType()),\n",
        "    StructField(\"AIR_TIME\", IntegerType()),\n",
        "    StructField(\"DISTANCE\", IntegerType()),\n",
        "    StructField(\"CARRIER_DELAY\", IntegerType()),\n",
        "    StructField(\"WEATHER_DELAY\", IntegerType()),\n",
        "    StructField(\"NAS_DELAY\", IntegerType()),\n",
        "    StructField(\"SECURITY_DELAY\", IntegerType()),\n",
        "    StructField(\"LATE_AIRCRAFT_DELAY\", IntegerType())\n",
        "    ])\n",
        "\n",
        "flightsDF = spark.read.option(\"header\", True).schema(flightsSchema).csv(FLIGHTS_FILENAME)\n",
        "\n",
        "flightsDF.createOrReplaceTempView(\"flights_new\")\n",
        "\n",
        "result = spark.sql(\"SELECT OP_CARRIER, count(*) AS num_flights FROM flights_new GROUP BY OP_CARRIER\")\n",
        "result.show()\n",
        "\n",
        "end_time = time.time()\n",
        "print( \"Runtime = \" + str(end_time - start_time))\n",
        "\n"
      ],
      "id": "782b53bb"
    },
    {
      "cell_type": "markdown",
      "metadata": {
        "id": "WDWc6JDvl-kr"
      },
      "source": [
        ""
      ],
      "id": "WDWc6JDvl-kr"
    },
    {
      "cell_type": "markdown",
      "metadata": {
        "id": "393ed265"
      },
      "source": [
        "* Execution time for sample.csv: 11.90 sec\n",
        "* Execution time for complete.csv: 181.03 sec\n",
        "\n",
        "Using GPU @ Colab (go to Execution time menu and change the type of execution time to include GPU):\n",
        "\n",
        "* Execution time for sample.csv: 7.94\n",
        "* Execution time for complete.csv: 148.67\n"
      ],
      "id": "393ed265"
    },
    {
      "cell_type": "markdown",
      "metadata": {
        "id": "Zo9rzFYImKhw"
      },
      "source": [
        "Using GPU is faster than CPU however you have a limited runtime.\n"
      ],
      "id": "Zo9rzFYImKhw"
    },
    {
      "cell_type": "markdown",
      "metadata": {
        "id": "13e0b6a7"
      },
      "source": [
        "### Code: Pandas library"
      ],
      "id": "13e0b6a7"
    },
    {
      "cell_type": "code",
      "execution_count": null,
      "metadata": {
        "colab": {
          "base_uri": "https://localhost:8080/"
        },
        "id": "bd002811",
        "outputId": "98d4da29-7eaf-4d23-b727-d4a64518b65d"
      },
      "outputs": [
        {
          "name": "stdout",
          "output_type": "stream",
          "text": [
            "            FL_DATE\n",
            "OP_CARRIER         \n",
            "9E            44539\n",
            "AA           266003\n",
            "AS            68912\n",
            "B6            97885\n",
            "CO            21141\n",
            "DL           303978\n",
            "EV           185522\n",
            "F9            36190\n",
            "FL            43105\n",
            "G4             5123\n",
            "HA            29920\n",
            "MQ           114668\n",
            "NK            25439\n",
            "NW            14128\n",
            "OH            24677\n",
            "OO           240809\n",
            "UA           192622\n",
            "US            84928\n",
            "VX            15862\n",
            "WN           465495\n",
            "XE            31772\n",
            "YV            38181\n",
            "YX            12706\n",
            "Runtime = 26.99401569366455\n"
          ]
        }
      ],
      "source": [
        "import pandas as pd\n",
        "import time\n",
        "\n",
        "start_time = time.time()\n",
        "mySchema = {\"FL_DATE\": \"str\",\n",
        "            \"OP_CARRIER\": \"str\",\n",
        "            \"OP_CARRIER_FL_NUM\":\"Int64\",\n",
        "            \"ORIGIN\":\"str\",\n",
        "            \"DEST\":\"str\",\n",
        "            \"CRS_DEP_TIME\":\"str\",\n",
        "            \"DEP_TIME\":\"str\",\n",
        "            \"DEP_DELAY\":\"Int64\",\n",
        "            \"TAXI_OUT\":\"Int64\",\n",
        "            \"WHEELS_OFF\":\"str\",\n",
        "            \"WHEELS_ON\":\"str\",\n",
        "            \"TAXI_IN\":\"Int64\",\n",
        "            \"CRS_ARR_TIME\":\"str\",\n",
        "            \"ARR_TIME\":\"str\",\n",
        "            \"ARR_DELAY\":\"Int64\",\n",
        "            \"CANCELLED\":\"Int64\",\n",
        "            \"CANCELLATION_CODE\":\"str\",\n",
        "            \"DIVERTED\":\"Int64\",\n",
        "            \"CRS_ELAPSED_TIME\":\"Int64\",\n",
        "            \"ACTUAL_ELAPSED_TIME\":\"Int64\",\n",
        "            \"AIR_TIME\":\"Int64\",\n",
        "            \"DISTANCE\":\"Int64\",\n",
        "            \"CARRIER_DELAY\":\"Int64\",\n",
        "            \"WEATHER_DELAY\":\"Int64\",\n",
        "            \"NAS_DELAY\":\"Int64\",\n",
        "            \"SECURITY_DELAY\":\"Int64\",\n",
        "            \"LATE_AIRCRAFT_DELAY\":\"Int64\"\n",
        "           }\n",
        "\n",
        "dataframe = pd.read_csv(FLIGHTS_FILENAME,dtype=mySchema)\n",
        "result = dataframe[[\"FL_DATE\",\"OP_CARRIER\"]].groupby(\"OP_CARRIER\").count()\n",
        "print(result)\n",
        "\n",
        "end_time = time.time()\n",
        "\n",
        "print( \"Runtime = \" + str(end_time - start_time))\n"
      ],
      "id": "bd002811"
    },
    {
      "cell_type": "markdown",
      "metadata": {
        "id": "5c51c285"
      },
      "source": [
        "* Execution time for sample.csv: 27.70\n",
        "* Execution time for complete.csv: after 20 minutes it stops"
      ],
      "id": "5c51c285"
    },
    {
      "cell_type": "markdown",
      "metadata": {
        "id": "7bf0588a"
      },
      "source": [
        "**Discuss the results you have obtained:**\n",
        "\n",
        "Runtime for spark is about half the time compared with pandas.\n",
        "This is because spark is multi-threaded while as pandas is single-threaded. In addition spark can be executed in a distributed way whereas pandas executes each step as it reaches it. In these case I was not possible to calculate the runtime of the complete dataset with pandas.\n",
        "While the complete.csv dataset was unable to run on pandas, timing out after 20 minutes, it was able to run in 140 seconds using spark. This suggests that when working with large datasets, we should execute our functions using spark.\n",
        "\n",
        "\n",
        "\n",
        "\n",
        "---\n",
        "\n",
        "\n"
      ],
      "id": "7bf0588a"
    },
    {
      "cell_type": "markdown",
      "metadata": {
        "id": "37d86190"
      },
      "source": [
        "## Problem 1 [4 points]\n",
        "\n",
        "In this first problem, you should compute a set of statistics on the data.\n"
      ],
      "id": "37d86190"
    },
    {
      "cell_type": "markdown",
      "metadata": {
        "id": "ScEwVj9jHGR7"
      },
      "source": [
        ""
      ],
      "id": "ScEwVj9jHGR7"
    },
    {
      "cell_type": "markdown",
      "metadata": {
        "id": "af46f81e"
      },
      "source": [
        "### Top-20 airports with more flights (include the name of the airport)"
      ],
      "id": "af46f81e"
    },
    {
      "cell_type": "code",
      "execution_count": null,
      "metadata": {
        "colab": {
          "base_uri": "https://localhost:8080/",
          "height": 781
        },
        "id": "4150f6af",
        "outputId": "9521b32e-a9f9-4b86-9cf2-ea9278df8414"
      },
      "outputs": [
        {
          "name": "stdout",
          "output_type": "stream",
          "text": [
            "+--------------------+------+\n",
            "|                name| count|\n",
            "+--------------------+------+\n",
            "|Hartsfield Jackso...|292928|\n",
            "|Chicago O'Hare In...|225636|\n",
            "|Dallas Fort Worth...|188344|\n",
            "|Denver Internatio...|178326|\n",
            "|Los Angeles Inter...|165664|\n",
            "|Phoenix Sky Harbo...|126822|\n",
            "|George Bush Inter...|125430|\n",
            "|San Francisco Int...|123106|\n",
            "|McCarran Internat...|109790|\n",
            "|Minneapolis-St Pa...|102290|\n",
            "|Detroit Metropoli...| 98756|\n",
            "|Seattle Tacoma In...| 98394|\n",
            "|Charlotte Douglas...| 98090|\n",
            "|Orlando Internati...| 93316|\n",
            "|General Edward La...| 89092|\n",
            "|Salt Lake City In...| 88244|\n",
            "|Newark Liberty In...| 85280|\n",
            "|John F Kennedy In...| 81750|\n",
            "|Baltimore/Washing...| 77742|\n",
            "|  La Guardia Airport| 76500|\n",
            "+--------------------+------+\n",
            "\n"
          ]
        },
        {
          "data": {
            "image/png": "[encoded data removed]",
            "text/plain": [
              "<Figure size 576x396 with 1 Axes>"
            ]
          },
          "metadata": {},
          "output_type": "display_data"
        }
      ],
      "source": [
        "\n",
        "flightsDF = spark.read.option(\"header\", True).schema(flightsSchema).csv(FLIGHTS_FILENAME)\n",
        "\n",
        "flightsDF.createOrReplaceTempView(\"flights_new\")\n",
        "\n",
        "result1 = spark.sql(\"\"\"SELECT name, count(ORIGIN)+count(DEST) AS count FROM flights\n",
        "                    JOIN airports ON airports.iata_code=flights.ORIGIN where cancelled=0 GROUP BY name ORDER BY \n",
        "                    count desc LIMIT 20\"\"\")\n",
        "\n",
        "result1.show(20)\n",
        "#for the plot\n",
        "pandasDf = result1.toPandas()\n",
        "pandasDf.set_index(\"name\",inplace = True)\n",
        "pandasDf.plot.barh().invert_yaxis()"
      ],
      "id": "4150f6af"
    },
    {
      "cell_type": "markdown",
      "metadata": {
        "id": "b31863ee"
      },
      "source": [
        "### Top-20 days with more flights"
      ],
      "id": "b31863ee"
    },
    {
      "cell_type": "code",
      "execution_count": null,
      "metadata": {
        "colab": {
          "base_uri": "https://localhost:8080/"
        },
        "id": "17444e94",
        "outputId": "c3853e42-b9f8-49d1-ac7a-e5427a3ff22c"
      },
      "outputs": [
        {
          "name": "stdout",
          "output_type": "stream",
          "text": [
            "+----------+-----+\n",
            "|   FL_DATE|count|\n",
            "+----------+-----+\n",
            "|2018-07-13|21851|\n",
            "|2018-07-09|21737|\n",
            "|2018-07-11|21613|\n",
            "|2018-07-12|21539|\n",
            "|2018-07-10|21397|\n",
            "|2018-07-08|21161|\n",
            "|2018-07-15|20595|\n",
            "|2018-07-06|20065|\n",
            "|2018-07-01|19745|\n",
            "|2018-07-02|19515|\n",
            "|2018-07-05|19388|\n",
            "|2009-07-10|19299|\n",
            "|2009-07-06|19239|\n",
            "|2009-07-09|19235|\n",
            "|2013-07-15|19178|\n",
            "|2009-07-15|19134|\n",
            "|2009-07-13|19127|\n",
            "|2009-07-08|19084|\n",
            "|2013-07-12|19059|\n",
            "|2009-07-14|19029|\n",
            "+----------+-----+\n",
            "only showing top 20 rows\n",
            "\n"
          ]
        }
      ],
      "source": [
        "days=spark.sql(\"\"\"SELECT FL_DATE, count(*) AS count FROM flights where cancelled=0 \n",
        "                    GROUP BY FL_DATE ORDER BY \n",
        "                    count desc\"\"\").show(20)"
      ],
      "id": "17444e94"
    },
    {
      "cell_type": "markdown",
      "metadata": {
        "id": "66b96cde"
      },
      "source": [
        "### Periods with more flights: morning (00:00-11:59, midday 12:00-17:59, evening 18:00-23:59)"
      ],
      "id": "66b96cde"
    },
    {
      "cell_type": "code",
      "execution_count": null,
      "metadata": {
        "colab": {
          "base_uri": "https://localhost:8080/"
        },
        "id": "66e9f1b8",
        "outputId": "44605bf1-9040-4891-b547-b20a1b12ec0b"
      },
      "outputs": [
        {
          "name": "stdout",
          "output_type": "stream",
          "text": [
            "+-----------------+------+\n",
            "|  CATEGORIZED_DEP| COUNT|\n",
            "+-----------------+------+\n",
            "|  MORNING_FLIGHTS|968632|\n",
            "|AFTERNOON_FLIGHTS|824064|\n",
            "|  EVENING_FLIGHTS|538781|\n",
            "+-----------------+------+\n",
            "\n"
          ]
        }
      ],
      "source": [
        "flightsDF.withColumn(\"DEP_TIME\",to_timestamp(\"DEP_TIME\")) \\\n",
        "\n",
        "import pyspark.sql.functions as spark_functions\n",
        "\n",
        "dep_split = pyspark.sql.functions.split(flightsDF[\"DEP_TIME\"], ' ')\n",
        "flightsDF = flightsDF.withColumn('Time', spark_functions.concat(dep_split.getItem(1),spark_functions.lit(' '),dep_split.getItem(2)))\n",
        "\n",
        "from pyspark.sql import functions as spark_functions\n",
        "def time_sorter(DEP_TIME):\n",
        "  if DEP_TIME < 1200:\n",
        "    return \"MORNING_FLIGHTS\"\n",
        "  elif DEP_TIME < 1800:\n",
        "    return \"AFTERNOON_FLIGHTS\"\n",
        "  else: \n",
        "    return \"EVENING_FLIGHTS\"\n",
        "\n",
        "FLIGHTS1 = flightsDF.withColumn(\"DEP_TIME\", spark_functions.regexp_replace(\"DEP_TIME\", \"\\\\:\", \"\"))\n",
        "FLIGHTS2 = FLIGHTS1.withColumn(\"DEP_TIME\",col(\"DEP_TIME\").cast(\"int\"))\n",
        "\n",
        "bins = udf(time_sorter, StringType() )\n",
        "\n",
        "FLIGHTS3 = FLIGHTS2.withColumn(\"CATEGORIZED_DEP\", bins(\"DEP_TIME\"))\n",
        "\n",
        "FLIGHTS3.createOrReplaceTempView(\"CATEGORIZED_FLIGHTS\")\n",
        "\n",
        "spark.sql(\"\"\"SELECT CATEGORIZED_DEP, COUNT(*) as COUNT\n",
        "            FROM CATEGORIZED_FLIGHTS\n",
        "            WHERE CANCELLED = 0\n",
        "            GROUP BY CATEGORIZED_DEP\n",
        "            ORDER BY COUNT DESC\n",
        "            \"\"\").show()"
      ],
      "id": "66e9f1b8"
    },
    {
      "cell_type": "markdown",
      "metadata": {
        "id": "f9807206"
      },
      "source": [
        "### Top-20 airports with longer delays"
      ],
      "id": "f9807206"
    },
    {
      "cell_type": "code",
      "execution_count": null,
      "metadata": {
        "colab": {
          "base_uri": "https://localhost:8080/"
        },
        "id": "0c1ce622",
        "outputId": "2f3d8afa-b0af-41ab-e1b8-c07ef4feab54"
      },
      "outputs": [
        {
          "name": "stdout",
          "output_type": "stream",
          "text": [
            "+--------------------+-----+\n",
            "|                name|DELAY|\n",
            "+--------------------+-----+\n",
            "|Hagerstown Region...|62.33|\n",
            "|Laughlin Bullhead...| 40.8|\n",
            "|Ogden Hinckley Ai...|38.25|\n",
            "|Northeast Florida...|35.55|\n",
            "|Jack Mc Namara Fi...|34.73|\n",
            "|Barnstable Munici...|33.74|\n",
            "|Scott AFB/Midamer...|33.53|\n",
            "|Rickenbacker Inte...|31.48|\n",
            "|Ogdensburg Intern...| 29.5|\n",
            "|Portsmouth Intern...|29.31|\n",
            "|Salina Municipal ...|29.16|\n",
            "|Southwest Oregon ...|26.38|\n",
            "|Martha's Vineyard...|24.69|\n",
            "|North Central Wes...|24.19|\n",
            "|Trenton Mercer Ai...|22.66|\n",
            "|Garden City Regio...| 22.6|\n",
            "|Stockton Metropol...|22.38|\n",
            "|Concord-Padgett R...|22.04|\n",
            "|Hattiesburg Laure...|21.62|\n",
            "|St Petersburg Cle...|20.68|\n",
            "+--------------------+-----+\n",
            "only showing top 20 rows\n",
            "\n"
          ]
        }
      ],
      "source": [
        "result2 = spark.sql(\"\"\"SELECT name, round(AVG(DEP_DELAY),2) AS DELAY FROM flights\n",
        "                    JOIN airports ON airports.iata_code=flights.ORIGIN where cancelled=0 GROUP BY name ORDER BY \n",
        "                    DELAY desc\"\"\")\n",
        "result2.show(20)"
      ],
      "id": "0c1ce622"
    },
    {
      "cell_type": "markdown",
      "metadata": {
        "id": "f39a9e96"
      },
      "source": [
        "### Top 10 carriers with longer delays"
      ],
      "id": "f39a9e96"
    },
    {
      "cell_type": "code",
      "execution_count": null,
      "metadata": {
        "colab": {
          "base_uri": "https://localhost:8080/"
        },
        "id": "8859452d",
        "outputId": "7afe0530-bb74-4b8c-d950-59249fb2334d"
      },
      "outputs": [
        {
          "name": "stdout",
          "output_type": "stream",
          "text": [
            "+----------+-----+\n",
            "|OP_CARRIER|DELAY|\n",
            "+----------+-----+\n",
            "|        G4|20.82|\n",
            "|        B6|16.66|\n",
            "|        EV|16.31|\n",
            "|        UA|16.15|\n",
            "|        F9|15.94|\n",
            "|        VX|14.93|\n",
            "|        NK|14.19|\n",
            "|        AA|12.63|\n",
            "|        WN|12.62|\n",
            "|        FL|12.17|\n",
            "+----------+-----+\n",
            "only showing top 10 rows\n",
            "\n"
          ]
        }
      ],
      "source": [
        "result = spark.sql(\"\"\"SELECT OP_CARRIER, round(AVG(DEP_DELAY),2) AS DELAY FROM flights\n",
        "                    where cancelled=0 GROUP BY OP_CARRIER ORDER BY \n",
        "                    DELAY desc\"\"\")\n",
        "result.show(10)"
      ],
      "id": "8859452d"
    },
    {
      "cell_type": "markdown",
      "metadata": {
        "id": "a4d1a5b6"
      },
      "source": [
        "### Longer delays by period: morning (00:00-11:59, midday 12:00-17:59, evening 18:00-23:59)\n"
      ],
      "id": "a4d1a5b6"
    },
    {
      "cell_type": "code",
      "execution_count": null,
      "metadata": {
        "colab": {
          "base_uri": "https://localhost:8080/"
        },
        "id": "1669be19",
        "outputId": "457e27f0-492f-456c-c46b-7f2a3fe44704"
      },
      "outputs": [
        {
          "name": "stdout",
          "output_type": "stream",
          "text": [
            "+-----------------+-----+\n",
            "|  CATEGORIZED_DEP|DELAY|\n",
            "+-----------------+-----+\n",
            "|  EVENING_FLIGHTS|25.97|\n",
            "|AFTERNOON_FLIGHTS|11.32|\n",
            "|  MORNING_FLIGHTS| 3.97|\n",
            "+-----------------+-----+\n",
            "\n"
          ]
        }
      ],
      "source": [
        "spark.sql(\"\"\"SELECT CATEGORIZED_DEP, round(AVG(DEP_DELAY),2) AS DELAY\n",
        "            FROM CATEGORIZED_FLIGHTS\n",
        "            WHERE CANCELLED = 0\n",
        "            GROUP BY CATEGORIZED_DEP\n",
        "            ORDER BY DELAY DESC\n",
        "            \"\"\").show()\n",
        "\n"
      ],
      "id": "1669be19"
    },
    {
      "cell_type": "markdown",
      "metadata": {
        "id": "cbb581e1"
      },
      "source": [
        "## Problem 2 [4 points]\n",
        "\n",
        "Assume you want to create a web site to help travellers get information about flight delays. The web site would allow a user to find out information about delays for the flight she want to take. \n",
        "The information about delays should include at least 3 statistics - suggestion: the average delay in the same route of the same carrier in the last 7 days, 30 days, 365 days, similar but considering only flights in the same week day, but excluding holidays, etc.\n",
        "\n",
        "To support this web site, it would be necessary to build one or more indices that would be used to answer the query of the user.\n",
        "\n",
        "Write the code to build these indices - for each index, print 5 lines."
      ],
      "id": "cbb581e1"
    },
    {
      "cell_type": "code",
      "execution_count": null,
      "metadata": {
        "id": "VncWKJ1tsr_C"
      },
      "outputs": [],
      "source": [
        "\n",
        "flightsF = \"data-2018.csv\"\n",
        "\n",
        "if 'COLAB_GPU' in os.environ : \n",
        "    FLIGHTS_FILENAME = \"/content/drive/MyDrive/data/\" + flightsF\n",
        "    AIRPORTS_FILENAME = \"/content/drive/MyDrive/data/airports.csv\"\n",
        "    HOLIDAYS_FILENAME = \"/content/drive/MyDrive/data/holidays.csv\"\n",
        "elif 'DATABRICKS_RUNTIME_VERSION' in os.environ : \n",
        "    # TO BE COMPLETE\n",
        "    ;\n",
        "else:\n",
        "    FLIGHTS_FILENAME = os.path.join( \"data\", flightsF)\n",
        "    AIRPORTS_FILENAME = os.path.join( \"data\", \"airports.csv\")\n",
        "    HOLIDAYS_FILENAME = os.path.join( \"data\", \"holidays.csv\")"
      ],
      "id": "VncWKJ1tsr_C"
    },
    {
      "cell_type": "code",
      "execution_count": null,
      "metadata": {
        "colab": {
          "base_uri": "https://localhost:8080/"
        },
        "id": "qPMlPj71K0_l",
        "outputId": "2e5a5992-9eba-4f1d-aa0a-ca4045b3cb01"
      },
      "outputs": [
        {
          "name": "stdout",
          "output_type": "stream",
          "text": [
            "+----------+-------+------+-------------+-------+--------------+--------+---------------+\n",
            "|op_carrier|  route|index7|index7holiday|index30|index30holiday|index365|index365holiday|\n",
            "+----------+-------+------+-------------+-------+--------------+--------+---------------+\n",
            "|        9E|JFK CMH| 0.104|        0.104|  0.055|         0.055|   0.015|           0.01|\n",
            "|        9E|ORD CVG| 0.066|        0.066|  0.049|         0.049|   0.009|          0.009|\n",
            "|        AA|DEN PHX|-0.004|       -0.004|  0.011|         0.011|   0.004|          0.004|\n",
            "|        AA|PHL AUS| 0.039|        0.039|  0.017|         0.017|   0.006|          0.006|\n",
            "|        AA|RNO DFW| 0.027|        0.027|  0.015|         0.015|   0.008|          0.008|\n",
            "+----------+-------+------+-------------+-------+--------------+--------+---------------+\n",
            "only showing top 5 rows\n",
            "\n"
          ]
        }
      ],
      "source": [
        "flightsDF = spark.read.option(\"header\", True).schema(flightsSchema).csv(FLIGHTS_FILENAME)\n",
        "\n",
        "flightsDF.createOrReplaceTempView(\"flights_new\")\n",
        "\n",
        "last_7 = spark.sql(\"\"\" SELECT op_carrier, CONCAT(origin, \" \", dest) as route, AVG(dep_delay) as delay\n",
        "                      FROM flights_new\n",
        "                      WHERE cancelled = 0 \n",
        "                      AND fl_date BETWEEN DATE(\"2018-05-17\") - INTERVAL 7 DAYS AND DATE(\"2018-05-17\")\n",
        "                      GROUP BY op_carrier, route\"\"\")\n",
        "\n",
        "\n",
        "last_7_holiday = spark.sql(\"\"\" SELECT op_carrier, CONCAT(origin, \" \", dest) as route, AVG(dep_delay) as delay\n",
        "                      FROM flights_new LEFT JOIN holidays ON FL_DATE = date\n",
        "                      WHERE cancelled = 0 and holiday IS NULL\n",
        "                      AND fl_date BETWEEN DATE(\"2018-05-17\") - INTERVAL 7 DAYS AND DATE(\"2018-05-17\")\n",
        "                      GROUP BY op_carrier, route\"\"\")\n",
        "\n",
        "\n",
        "last_30 = spark.sql(\"\"\" SELECT op_carrier, CONCAT(origin, \" \", dest) as route, AVG(dep_delay) as delay\n",
        "                      FROM flights_new\n",
        "                      WHERE cancelled = 0 \n",
        "                      AND fl_date BETWEEN DATE(\"2018-05-17\") - INTERVAL 30 DAYS AND DATE(\"2018-05-17\")\n",
        "                      GROUP BY op_carrier, route\"\"\")\n",
        "\n",
        "last_30_holiday = spark.sql(\"\"\" SELECT op_carrier, CONCAT(origin, \" \", dest) as route, AVG(dep_delay) as delay\n",
        "                      FROM flights_new LEFT JOIN holidays ON FL_DATE = date\n",
        "                      WHERE cancelled = 0 and holiday IS NULL\n",
        "                      AND fl_date BETWEEN DATE(\"2018-05-17\") - INTERVAL 30 DAYS AND DATE(\"2018-05-17\")\n",
        "                      GROUP BY op_carrier, route\"\"\")\n",
        "\n",
        "last_365 = spark.sql(\"\"\" SELECT op_carrier, CONCAT(origin, \" \", dest) as route, AVG(dep_delay) as delay\n",
        "                      FROM flights_new\n",
        "                      WHERE cancelled = 0 \n",
        "                      AND fl_date BETWEEN DATE(\"2018-05-17\") - INTERVAL 365 DAYS AND DATE(\"2018-05-17\")\n",
        "                      GROUP BY op_carrier, route\"\"\")\n",
        "\n",
        "last_365_holiday = spark.sql(\"\"\" SELECT op_carrier, CONCAT(origin, \" \", dest) as route, AVG(dep_delay) as delay\n",
        "                      FROM flights_new LEFT JOIN holidays ON FL_DATE = date\n",
        "                      WHERE cancelled = 0 and holiday IS NULL\n",
        "                      AND fl_date BETWEEN DATE(\"2018-05-17\") - INTERVAL 365 DAYS AND DATE(\"2018-05-17\")\n",
        "                      GROUP BY op_carrier, route\"\"\")\n",
        "\n",
        "\n",
        "last_7.createOrReplaceTempView(\"last_7\")\n",
        "last_7_holiday.createOrReplaceTempView(\"last_7_holiday\")\n",
        "last_30.createOrReplaceTempView(\"last_30\")\n",
        "last_30_holiday.createOrReplaceTempView(\"last_30_holiday\")\n",
        "last_365.createOrReplaceTempView(\"last_365\")\n",
        "last_365_holiday.createOrReplaceTempView(\"last_365_holiday\")\n",
        "\n",
        "\n",
        "\n",
        "indices = spark.sql(\"\"\"SELECT last_7.op_carrier, last_7.route, ROUND((last_7.delay/(SELECT MAX(delay) from last_7)),3) as index7,\n",
        "                       ROUND((last_7_holiday.delay/(SELECT MAX(delay) from last_7_holiday)),3) as index7holiday,\n",
        "                       ROUND((last_30.delay/(SELECT MAX(delay) from last_30)),3) as index30,\n",
        "                       ROUND((last_30_holiday.delay/(SELECT MAX(delay) from last_30_holiday)),3) as index30holiday,\n",
        "                       ROUND((last_365.delay/(SELECT MAX(delay) from last_365)),3) as index365,\n",
        "                       ROUND((last_365_holiday.delay/(SELECT MAX(delay) from last_365_holiday)),3) as index365holiday\n",
        "                       FROM last_7\n",
        "                       JOIN last_7_holiday on last_7.op_carrier = last_7_holiday.op_carrier AND last_7.route = last_7_holiday.route\n",
        "                       JOIN last_30 on last_7.op_carrier = last_30.op_carrier AND last_7.route = last_30.route\n",
        "                       JOIN last_30_holiday on last_7.op_carrier = last_30_holiday.op_carrier AND last_7.route = last_30_holiday.route\n",
        "                       JOIN last_365 on last_7.op_carrier = last_365.op_carrier AND last_7.route = last_365.route\n",
        "                       JOIN last_365_holiday on last_7.op_carrier = last_365_holiday.op_carrier AND last_7.route = last_365_holiday.route\n",
        "                      \"\"\").show(5)\n",
        "                      \n"
      ],
      "id": "qPMlPj71K0_l"
    },
    {
      "cell_type": "markdown",
      "metadata": {
        "id": "9204ebac"
      },
      "source": [
        "#### Discussion\n",
        "\n",
        "We set our solution up in a way, where the user of the website is querying a preprocessed set of indices for each carrier-route combination, which is calculated once per day. The user will then be presented with the indices, showing the average delays of the chosen carrier on that route on the last 7/30/365 days - compared to the other carrier-route combinations. The same indices (7/30/365) are available excluding holidays, but the values are fairly similar (which makes sense as there are only a few holidays in a year).\n",
        "\n",
        "This index information can then be easily combined with some visuals, where a value close to 1 is a longer delay and a value close to 0 is a shorter delay. The user will want to select a carrier-route close to 0. Tyically, indices go from 0-1, however our calculated indices also include small negative values. Those are caused by the negative delay (plane leaving ahead of the departure time) values in the dataset. Consequently, this means that negative values in the indices are to be interpreted by the user as a very punctual carrier-route.\n",
        "\n",
        "Note that in the code we have chosen a reference date (2018-05-17) as an example to be able to make the last n day calculation. For this reason, also used the 2018 dataset instead of the sample dataset, because we needed a complete set of flights (When using the sample dataset the last 7 calculation was emptly bc there were no flights in that period). Ideally, the preprocessing of the indices would run on a dataset that spans only the last 365 days, so for a calculation at the current time, the preprocessing would be run on the dataset for 2021 and 2020. This way, we can reduce runtime by only considering data that is actually relevant for the index calculation (instead of using the complete file). By preprocessing once per day and then storing the indices, we can assure that the query of the user is not taking too long (running the entire preprocessing each time a user queries a carrier-route would take way too long and the user would leave the webpage)."
      ],
      "id": "9204ebac"
    },
    {
      "cell_type": "markdown",
      "metadata": {
        "id": "822b0e6d"
      },
      "source": [
        "## Problem 3 [4 points]\n",
        "\n",
        "Transform the flights data to include a class, depending on the delay - SHORT, LONG - depending on whether the departure delay was less than 10 minutes, or greater or equal to 10 minutes.\n",
        "\n",
        "Build and evaluate a classification model for the data.\n"
      ],
      "id": "822b0e6d"
    },
    {
      "cell_type": "markdown",
      "metadata": {
        "id": "MxnX1kyWTMn_"
      },
      "source": [
        "Before we  train a model, we need to analyse the features which can be altered so it optimizes the predicting power of the model. \n",
        "At first, we will create a new column with the number of the weekday of each flight. (e.g. 0 = Monday, 6 = Sunday)"
      ],
      "id": "MxnX1kyWTMn_"
    },
    {
      "cell_type": "code",
      "execution_count": null,
      "metadata": {
        "id": "2oqIMBFc9XQh"
      },
      "outputs": [],
      "source": [
        "from pyspark.sql import functions as spark_functions\n",
        "from pyspark.ml.feature import VectorAssembler\n",
        "from pyspark.ml.classification import LogisticRegression\n",
        "from pyspark.ml.feature import StringIndexer\n",
        "from pyspark.ml.feature import OneHotEncoder\n",
        "from pyspark.ml import Pipeline\n",
        "\n",
        "\n",
        "\n",
        "flightsF = \"sample.csv\"\n",
        "\n",
        "if 'COLAB_GPU' in os.environ : \n",
        "    FLIGHTS_FILENAME = \"/content/drive/MyDrive/data/\" + flightsF\n",
        "    AIRPORTS_FILENAME = \"/content/drive/MyDrive/data/airports.csv\"\n",
        "    HOLIDAYS_FILENAME = \"/content/drive/MyDrive/data/holidays.csv\"\n",
        "elif 'DATABRICKS_RUNTIME_VERSION' in os.environ : \n",
        "    # TO BE COMPLETE\n",
        "    ;\n",
        "else:\n",
        "    FLIGHTS_FILENAME = os.path.join( \"data\", flightsF)\n",
        "    AIRPORTS_FILENAME = os.path.join( \"data\", \"airports.csv\")\n",
        "    HOLIDAYS_FILENAME = os.path.join( \"data\", \"holidays.csv\")\n",
        "\n",
        "\n",
        "\n",
        "flightsDF = spark.read.option(\"header\", True).schema(flightsSchema).csv(FLIGHTS_FILENAME)\n",
        "\n",
        "FlightsDF = pd.read_csv(FLIGHTS_FILENAME)\n"
      ],
      "id": "2oqIMBFc9XQh"
    },
    {
      "cell_type": "markdown",
      "metadata": {
        "id": "aa7radi-TRPB"
      },
      "source": [
        "The next step of feature engineering is to replace the DEP_RELAY column with a 0 or 1 class type. 0 implies a \"SHORT\" delay of less than 10 minutes, 1 implies a \"LONG\" delay of more than or equal to 10 minutes. We use numeric values in order to perform the model."
      ],
      "id": "aa7radi-TRPB"
    },
    {
      "cell_type": "code",
      "execution_count": null,
      "metadata": {
        "id": "SGPquMvSQfec"
      },
      "outputs": [],
      "source": [
        "#Feature Engineering Flight Date to increase performance\n",
        "#(e.g. 0 = Monday, 6 = Sunday)\n",
        "FlightsDF['date1'] = pd.to_datetime(FlightsDF['FL_DATE'])\n",
        "FlightsDF[\"WEEKDAY\"] = FlightsDF['date1'].dt.day_name\n"
      ],
      "id": "SGPquMvSQfec"
    },
    {
      "cell_type": "code",
      "execution_count": null,
      "metadata": {
        "id": "D1YchsEHRXHS"
      },
      "outputs": [],
      "source": [
        "#Feature Engineering Creating the target variable\n",
        "#short = 0, long = 1\n",
        "class_delay=[]\n",
        "for row in FlightsDF [\"DEP_DELAY\"]:\n",
        "    if row < 10:\n",
        "        class_delay.append(0)\n",
        "    else: \n",
        "        class_delay.append(1)\n",
        "FlightsDF[\"DELAY\"] = class_delay"
      ],
      "id": "D1YchsEHRXHS"
    },
    {
      "cell_type": "markdown",
      "metadata": {
        "id": "y1LWFR-VTaHH"
      },
      "source": [
        "Feature Selection: Then, before selecting the X and Y variables, we need to select the features that should be excluded of the model due to target leakage, multicollinearity, or high unbalance. Hence, the following values are dropped: \"FL_DATE\", \"date1\", \"OP_CARRIER\",\"OP_CARRIER_FL_NUM\", \"DEP_DELAY\", \"DEP_TIME\",\"ARR_TIME\", \"TAXI_OUT\", \"WHEELS_OFF\",\"TAXI_IN\", \"WHEELS_ON\", \"ARR_DELAY\",\"ACTUAL_ELAPSED_TIME\", \"CANCELLED\", \"CANCELLATION_CODE\", \"DIVERTED\", \"CARRIER_DELAY\",\"WEATHER_DELAY\",\"NAS_DELAY\",\"SECURITY_DELAY\",\"LATE_AIRCRAFT_DELAY\". Also we will replace all NaN values with 0.0 in order to have more datapoints available since removing rows with NaN values would make the dataset imbalance. There would be more long delayed flights than short delay flights which does not represent the real case scenario."
      ],
      "id": "y1LWFR-VTaHH"
    },
    {
      "cell_type": "code",
      "execution_count": null,
      "metadata": {
        "colab": {
          "base_uri": "https://localhost:8080/",
          "height": 677
        },
        "id": "0PF9AGIrRd8_",
        "outputId": "0b5d5c71-ccf4-4726-bff1-a8af1b02f4f6"
      },
      "outputs": [
        {
          "data": {
            "text/html": [
              "<div>\n",
              "<style scoped>\n",
              "    .dataframe tbody tr th:only-of-type {\n",
              "        vertical-align: middle;\n",
              "    }\n",
              "\n",
              "    .dataframe tbody tr th {\n",
              "        vertical-align: top;\n",
              "    }\n",
              "\n",
              "    .dataframe thead th {\n",
              "        text-align: right;\n",
              "    }\n",
              "</style>\n",
              "<table border=\"1\" class=\"dataframe\">\n",
              "  <thead>\n",
              "    <tr style=\"text-align: right;\">\n",
              "      <th></th>\n",
              "      <th>ORIGIN</th>\n",
              "      <th>DEST</th>\n",
              "      <th>CRS_DEP_TIME</th>\n",
              "      <th>CRS_ARR_TIME</th>\n",
              "      <th>CRS_ELAPSED_TIME</th>\n",
              "      <th>AIR_TIME</th>\n",
              "      <th>DISTANCE</th>\n",
              "      <th>DELAY</th>\n",
              "    </tr>\n",
              "  </thead>\n",
              "  <tbody>\n",
              "    <tr>\n",
              "      <th>0</th>\n",
              "      <td>ORD</td>\n",
              "      <td>ROC</td>\n",
              "      <td>07:17</td>\n",
              "      <td>09:56</td>\n",
              "      <td>99.0</td>\n",
              "      <td>76.0</td>\n",
              "      <td>528</td>\n",
              "      <td>0</td>\n",
              "    </tr>\n",
              "    <tr>\n",
              "      <th>1</th>\n",
              "      <td>ROC</td>\n",
              "      <td>ORD</td>\n",
              "      <td>09:48</td>\n",
              "      <td>10:38</td>\n",
              "      <td>110.0</td>\n",
              "      <td>81.0</td>\n",
              "      <td>528</td>\n",
              "      <td>0</td>\n",
              "    </tr>\n",
              "    <tr>\n",
              "      <th>2</th>\n",
              "      <td>ORD</td>\n",
              "      <td>SDF</td>\n",
              "      <td>10:26</td>\n",
              "      <td>12:50</td>\n",
              "      <td>84.0</td>\n",
              "      <td>49.0</td>\n",
              "      <td>286</td>\n",
              "      <td>0</td>\n",
              "    </tr>\n",
              "    <tr>\n",
              "      <th>3</th>\n",
              "      <td>SDF</td>\n",
              "      <td>ORD</td>\n",
              "      <td>13:18</td>\n",
              "      <td>13:42</td>\n",
              "      <td>84.0</td>\n",
              "      <td>62.0</td>\n",
              "      <td>286</td>\n",
              "      <td>0</td>\n",
              "    </tr>\n",
              "    <tr>\n",
              "      <th>4</th>\n",
              "      <td>IAD</td>\n",
              "      <td>ROC</td>\n",
              "      <td>16:47</td>\n",
              "      <td>18:13</td>\n",
              "      <td>86.0</td>\n",
              "      <td>45.0</td>\n",
              "      <td>289</td>\n",
              "      <td>0</td>\n",
              "    </tr>\n",
              "    <tr>\n",
              "      <th>5</th>\n",
              "      <td>ORD</td>\n",
              "      <td>SDF</td>\n",
              "      <td>13:09</td>\n",
              "      <td>15:26</td>\n",
              "      <td>77.0</td>\n",
              "      <td>45.0</td>\n",
              "      <td>286</td>\n",
              "      <td>0</td>\n",
              "    </tr>\n",
              "    <tr>\n",
              "      <th>6</th>\n",
              "      <td>SDF</td>\n",
              "      <td>ORD</td>\n",
              "      <td>15:54</td>\n",
              "      <td>16:20</td>\n",
              "      <td>86.0</td>\n",
              "      <td>55.0</td>\n",
              "      <td>286</td>\n",
              "      <td>0</td>\n",
              "    </tr>\n",
              "    <tr>\n",
              "      <th>7</th>\n",
              "      <td>ORD</td>\n",
              "      <td>TYS</td>\n",
              "      <td>17:57</td>\n",
              "      <td>20:41</td>\n",
              "      <td>104.0</td>\n",
              "      <td>62.0</td>\n",
              "      <td>475</td>\n",
              "      <td>0</td>\n",
              "    </tr>\n",
              "    <tr>\n",
              "      <th>8</th>\n",
              "      <td>DAY</td>\n",
              "      <td>IAD</td>\n",
              "      <td>19:36</td>\n",
              "      <td>20:58</td>\n",
              "      <td>82.0</td>\n",
              "      <td>53.0</td>\n",
              "      <td>368</td>\n",
              "      <td>1</td>\n",
              "    </tr>\n",
              "    <tr>\n",
              "      <th>9</th>\n",
              "      <td>IAD</td>\n",
              "      <td>DAY</td>\n",
              "      <td>17:10</td>\n",
              "      <td>18:55</td>\n",
              "      <td>105.0</td>\n",
              "      <td>65.0</td>\n",
              "      <td>368</td>\n",
              "      <td>1</td>\n",
              "    </tr>\n",
              "    <tr>\n",
              "      <th>10</th>\n",
              "      <td>OMA</td>\n",
              "      <td>ORD</td>\n",
              "      <td>10:20</td>\n",
              "      <td>11:48</td>\n",
              "      <td>88.0</td>\n",
              "      <td>70.0</td>\n",
              "      <td>416</td>\n",
              "      <td>0</td>\n",
              "    </tr>\n",
              "    <tr>\n",
              "      <th>11</th>\n",
              "      <td>ORD</td>\n",
              "      <td>OMA</td>\n",
              "      <td>08:16</td>\n",
              "      <td>09:52</td>\n",
              "      <td>96.0</td>\n",
              "      <td>66.0</td>\n",
              "      <td>416</td>\n",
              "      <td>0</td>\n",
              "    </tr>\n",
              "    <tr>\n",
              "      <th>12</th>\n",
              "      <td>CLE</td>\n",
              "      <td>ORD</td>\n",
              "      <td>13:50</td>\n",
              "      <td>14:15</td>\n",
              "      <td>85.0</td>\n",
              "      <td>53.0</td>\n",
              "      <td>316</td>\n",
              "      <td>0</td>\n",
              "    </tr>\n",
              "    <tr>\n",
              "      <th>13</th>\n",
              "      <td>ORD</td>\n",
              "      <td>CLE</td>\n",
              "      <td>11:06</td>\n",
              "      <td>13:22</td>\n",
              "      <td>76.0</td>\n",
              "      <td>48.0</td>\n",
              "      <td>316</td>\n",
              "      <td>0</td>\n",
              "    </tr>\n",
              "    <tr>\n",
              "      <th>14</th>\n",
              "      <td>CLE</td>\n",
              "      <td>IAD</td>\n",
              "      <td>10:15</td>\n",
              "      <td>11:36</td>\n",
              "      <td>81.0</td>\n",
              "      <td>49.0</td>\n",
              "      <td>288</td>\n",
              "      <td>0</td>\n",
              "    </tr>\n",
              "    <tr>\n",
              "      <th>15</th>\n",
              "      <td>IAD</td>\n",
              "      <td>CLE</td>\n",
              "      <td>08:20</td>\n",
              "      <td>09:47</td>\n",
              "      <td>87.0</td>\n",
              "      <td>45.0</td>\n",
              "      <td>288</td>\n",
              "      <td>0</td>\n",
              "    </tr>\n",
              "    <tr>\n",
              "      <th>16</th>\n",
              "      <td>CLE</td>\n",
              "      <td>IAD</td>\n",
              "      <td>14:27</td>\n",
              "      <td>15:53</td>\n",
              "      <td>86.0</td>\n",
              "      <td>48.0</td>\n",
              "      <td>288</td>\n",
              "      <td>0</td>\n",
              "    </tr>\n",
              "    <tr>\n",
              "      <th>17</th>\n",
              "      <td>IAD</td>\n",
              "      <td>CLE</td>\n",
              "      <td>12:38</td>\n",
              "      <td>13:59</td>\n",
              "      <td>81.0</td>\n",
              "      <td>46.0</td>\n",
              "      <td>288</td>\n",
              "      <td>0</td>\n",
              "    </tr>\n",
              "    <tr>\n",
              "      <th>18</th>\n",
              "      <td>IAD</td>\n",
              "      <td>CLE</td>\n",
              "      <td>16:45</td>\n",
              "      <td>18:11</td>\n",
              "      <td>86.0</td>\n",
              "      <td>50.0</td>\n",
              "      <td>288</td>\n",
              "      <td>0</td>\n",
              "    </tr>\n",
              "    <tr>\n",
              "      <th>19</th>\n",
              "      <td>GSP</td>\n",
              "      <td>IAD</td>\n",
              "      <td>10:10</td>\n",
              "      <td>11:36</td>\n",
              "      <td>86.0</td>\n",
              "      <td>62.0</td>\n",
              "      <td>383</td>\n",
              "      <td>0</td>\n",
              "    </tr>\n",
              "  </tbody>\n",
              "</table>\n",
              "</div>"
            ],
            "text/plain": [
              "   ORIGIN DEST CRS_DEP_TIME  ... AIR_TIME  DISTANCE  DELAY\n",
              "0     ORD  ROC        07:17  ...     76.0       528      0\n",
              "1     ROC  ORD        09:48  ...     81.0       528      0\n",
              "2     ORD  SDF        10:26  ...     49.0       286      0\n",
              "3     SDF  ORD        13:18  ...     62.0       286      0\n",
              "4     IAD  ROC        16:47  ...     45.0       289      0\n",
              "5     ORD  SDF        13:09  ...     45.0       286      0\n",
              "6     SDF  ORD        15:54  ...     55.0       286      0\n",
              "7     ORD  TYS        17:57  ...     62.0       475      0\n",
              "8     DAY  IAD        19:36  ...     53.0       368      1\n",
              "9     IAD  DAY        17:10  ...     65.0       368      1\n",
              "10    OMA  ORD        10:20  ...     70.0       416      0\n",
              "11    ORD  OMA        08:16  ...     66.0       416      0\n",
              "12    CLE  ORD        13:50  ...     53.0       316      0\n",
              "13    ORD  CLE        11:06  ...     48.0       316      0\n",
              "14    CLE  IAD        10:15  ...     49.0       288      0\n",
              "15    IAD  CLE        08:20  ...     45.0       288      0\n",
              "16    CLE  IAD        14:27  ...     48.0       288      0\n",
              "17    IAD  CLE        12:38  ...     46.0       288      0\n",
              "18    IAD  CLE        16:45  ...     50.0       288      0\n",
              "19    GSP  IAD        10:10  ...     62.0       383      0\n",
              "\n",
              "[20 rows x 8 columns]"
            ]
          },
          "execution_count": 107,
          "metadata": {},
          "output_type": "execute_result"
        }
      ],
      "source": [
        "\n",
        "drop_columns = [\"FL_DATE\", \"date1\", \"OP_CARRIER\",\"OP_CARRIER_FL_NUM\", \"DEP_DELAY\", \"DEP_TIME\",\n",
        "                \"ARR_TIME\", \"TAXI_OUT\", \"WHEELS_OFF\",\"TAXI_IN\", \"WHEELS_ON\", \"ARR_DELAY\",\n",
        "               \"ACTUAL_ELAPSED_TIME\", \"CANCELLED\", \"CANCELLATION_CODE\", \"DIVERTED\", \"CARRIER_DELAY\",\"WEATHER_DELAY\",\"NAS_DELAY\",\"SECURITY_DELAY\",\"LATE_AIRCRAFT_DELAY\",\"WEEKDAY\"]\n",
        "FlightsDF1 = FlightsDF.drop(columns=drop_columns, axis=1).fillna(0.0)\n",
        "FlightsDF1.head(20)"
      ],
      "id": "0PF9AGIrRd8_"
    },
    {
      "cell_type": "markdown",
      "metadata": {
        "id": "8XBmEXHjTd3K"
      },
      "source": [
        "Before training a model, we need to make sure that all variables have the correct datatype. In case of integers, these need to be transformed to float-like numbers. Objects cannot be included in the model and need to be removed."
      ],
      "id": "8XBmEXHjTd3K"
    },
    {
      "cell_type": "code",
      "execution_count": null,
      "metadata": {
        "colab": {
          "base_uri": "https://localhost:8080/"
        },
        "id": "FrSyxgqLRksP",
        "outputId": "24a928a1-8b13-4394-92da-bfd434862be9"
      },
      "outputs": [
        {
          "data": {
            "text/plain": [
              "ORIGIN               object\n",
              "DEST                 object\n",
              "CRS_DEP_TIME         object\n",
              "CRS_ARR_TIME         object\n",
              "CRS_ELAPSED_TIME    float64\n",
              "AIR_TIME            float64\n",
              "DISTANCE              int64\n",
              "DELAY                 int64\n",
              "dtype: object"
            ]
          },
          "execution_count": 108,
          "metadata": {},
          "output_type": "execute_result"
        }
      ],
      "source": [
        "FlightsDF1.dtypes"
      ],
      "id": "FrSyxgqLRksP"
    },
    {
      "cell_type": "code",
      "execution_count": null,
      "metadata": {
        "id": "woPQMzssRqpV"
      },
      "outputs": [],
      "source": [
        "#transform integers into float-like numbers\n",
        "FlightsDF1.dtypes\n",
        "for x in FlightsDF1:\n",
        "    if FlightsDF1[x].dtypes == \"int64\":\n",
        "        FlightsDF1[x] = FlightsDF1[x].astype(float)"
      ],
      "id": "woPQMzssRqpV"
    },
    {
      "cell_type": "code",
      "execution_count": null,
      "metadata": {
        "id": "D9LPTq8KRyUX"
      },
      "outputs": [],
      "source": [
        "#selecting only the data that has numeric values \n",
        "FlightsDF2 = FlightsDF1.select_dtypes(exclude=['object'])"
      ],
      "id": "D9LPTq8KRyUX"
    },
    {
      "cell_type": "markdown",
      "metadata": {
        "id": "ZvGi7EiWThJa"
      },
      "source": [
        "Training the Model: In order to choose the best-performing model we will conduct models using Logistic Regression, Decision Tree, Random Forest and use the best performing one to evaluate."
      ],
      "id": "ZvGi7EiWThJa"
    },
    {
      "cell_type": "code",
      "execution_count": null,
      "metadata": {
        "id": "cmDxX0JMR3L9"
      },
      "outputs": [],
      "source": [
        "#Setting the X and y variables\n",
        "# Features\n",
        "X = FlightsDF2.drop(['DELAY'], axis = 1)\n",
        "# Target variable\n",
        "y = FlightsDF2['DELAY']"
      ],
      "id": "cmDxX0JMR3L9"
    },
    {
      "cell_type": "code",
      "execution_count": null,
      "metadata": {
        "id": "6mJqTOjGR7HH"
      },
      "outputs": [],
      "source": [
        "#Perform a train/test split of 80/20\n",
        "from sklearn.model_selection import train_test_split\n",
        "X_train,X_test,y_train,y_test=train_test_split(X,y,test_size=0.2,random_state=2)"
      ],
      "id": "6mJqTOjGR7HH"
    },
    {
      "cell_type": "markdown",
      "metadata": {
        "id": "qXWtAojwTjgj"
      },
      "source": [
        "Logistic Regression"
      ],
      "id": "qXWtAojwTjgj"
    },
    {
      "cell_type": "code",
      "execution_count": null,
      "metadata": {
        "id": "LHxOdlv7R98V"
      },
      "outputs": [],
      "source": [
        "import warnings\n",
        "from sklearn.exceptions import ConvergenceWarning\n",
        "\n",
        "warnings.simplefilter(\"ignore\", category=ConvergenceWarning)"
      ],
      "id": "LHxOdlv7R98V"
    },
    {
      "cell_type": "code",
      "execution_count": null,
      "metadata": {
        "colab": {
          "base_uri": "https://localhost:8080/"
        },
        "id": "RHaddVJYR_s-",
        "outputId": "70c9f067-3730-4fee-c627-5f8dd0c1655c"
      },
      "outputs": [
        {
          "data": {
            "text/plain": [
              "LogisticRegression()"
            ]
          },
          "execution_count": 115,
          "metadata": {},
          "output_type": "execute_result"
        }
      ],
      "source": [
        "# instantiate model using the default parameters\n",
        "from sklearn.linear_model import LogisticRegression \n",
        "logreg = LogisticRegression()\n",
        "# fit the model with data\n",
        "logreg.fit(X_train,y_train)"
      ],
      "id": "RHaddVJYR_s-"
    },
    {
      "cell_type": "code",
      "execution_count": null,
      "metadata": {
        "colab": {
          "base_uri": "https://localhost:8080/"
        },
        "id": "9fJJttxSSGLa",
        "outputId": "5a4d5f91-6aea-4e6f-98fc-6798aeee65a2"
      },
      "outputs": [
        {
          "name": "stdout",
          "output_type": "stream",
          "text": [
            "Results for LogisticRegression; train: 0.748 test: 0.748\n",
            "LogisticRegression coefs: [[ 0.01527099 -0.01719527  0.00019731]] and intercept: [-1.45382941]\n"
          ]
        }
      ],
      "source": [
        "print(\"Results for LogisticRegression; train: {:.3f} test: {:.3f}\".format(logreg.\n",
        "  score(X_train, y_train), logreg.score(X_test, y_test)))\n",
        "print(\"LogisticRegression coefs: {} and intercept: {}\".format(logreg.coef_, logreg.\n",
        "  intercept_))"
      ],
      "id": "9fJJttxSSGLa"
    },
    {
      "cell_type": "markdown",
      "metadata": {
        "id": "alOKcLHxTmNg"
      },
      "source": [
        "Decision Tree"
      ],
      "id": "alOKcLHxTmNg"
    },
    {
      "cell_type": "code",
      "execution_count": null,
      "metadata": {
        "colab": {
          "base_uri": "https://localhost:8080/"
        },
        "id": "Ci5szr2dSTlh",
        "outputId": "f6419751-5869-4e62-bc05-0fabf4a9efa8"
      },
      "outputs": [
        {
          "name": "stdout",
          "output_type": "stream",
          "text": [
            "DecisionTreeClassifier training score: 0.753\n",
            "DecisionTreeClassifier test score: 0.753\n"
          ]
        }
      ],
      "source": [
        "from sklearn.tree import DecisionTreeClassifier, plot_tree\n",
        "\n",
        "tree = DecisionTreeClassifier(max_depth=3)\n",
        "tree.fit(X_train, y_train)\n",
        "print(\"DecisionTreeClassifier training score: {:.3f}\".format(tree.score(X_train,y_train)))\n",
        "print(\"DecisionTreeClassifier test score: {:.3f}\".format(tree.score(X_test,y_test)))"
      ],
      "id": "Ci5szr2dSTlh"
    },
    {
      "cell_type": "code",
      "execution_count": null,
      "metadata": {
        "colab": {
          "base_uri": "https://localhost:8080/",
          "height": 81
        },
        "id": "EQcDYLk4SV7F",
        "outputId": "16b62410-31ea-4966-dcba-eb39794fc303"
      },
      "outputs": [
        {
          "data": {
            "text/html": [
              "<div>\n",
              "<style scoped>\n",
              "    .dataframe tbody tr th:only-of-type {\n",
              "        vertical-align: middle;\n",
              "    }\n",
              "\n",
              "    .dataframe tbody tr th {\n",
              "        vertical-align: top;\n",
              "    }\n",
              "\n",
              "    .dataframe thead th {\n",
              "        text-align: right;\n",
              "    }\n",
              "</style>\n",
              "<table border=\"1\" class=\"dataframe\">\n",
              "  <thead>\n",
              "    <tr style=\"text-align: right;\">\n",
              "      <th></th>\n",
              "      <th>CRS_ELAPSED_TIME</th>\n",
              "      <th>AIR_TIME</th>\n",
              "      <th>DISTANCE</th>\n",
              "    </tr>\n",
              "  </thead>\n",
              "  <tbody>\n",
              "    <tr>\n",
              "      <th>0</th>\n",
              "      <td>0.064525</td>\n",
              "      <td>0.923957</td>\n",
              "      <td>0.011518</td>\n",
              "    </tr>\n",
              "  </tbody>\n",
              "</table>\n",
              "</div>"
            ],
            "text/plain": [
              "   CRS_ELAPSED_TIME  AIR_TIME  DISTANCE\n",
              "0          0.064525  0.923957  0.011518"
            ]
          },
          "metadata": {},
          "output_type": "display_data"
        }
      ],
      "source": [
        "display(pd.DataFrame([tree.feature_importances_],columns=X.columns))"
      ],
      "id": "EQcDYLk4SV7F"
    },
    {
      "cell_type": "code",
      "execution_count": null,
      "metadata": {
        "colab": {
          "base_uri": "https://localhost:8080/",
          "height": 330
        },
        "id": "yynzrWNnSXyT",
        "outputId": "676494d3-1da7-4cb0-811b-3a6a1441834a"
      },
      "outputs": [
        {
          "data": {
            "image/png": "[encoded data removed]",
            "text/plain": [
              "<Figure size 576x396 with 1 Axes>"
            ]
          },
          "metadata": {},
          "output_type": "display_data"
        }
      ],
      "source": [
        "import matplotlib.pyplot as plt\n",
        "plot_tree(tree)\n",
        "plt.show()"
      ],
      "id": "yynzrWNnSXyT"
    },
    {
      "cell_type": "markdown",
      "metadata": {
        "id": "d1r6nSVfTpdK"
      },
      "source": [
        "GradientBoostingClassifier: As comparison, we can use multiple trees to increase the accuracy and lessen the probability of over-fitting."
      ],
      "id": "d1r6nSVfTpdK"
    },
    {
      "cell_type": "code",
      "execution_count": null,
      "metadata": {
        "colab": {
          "base_uri": "https://localhost:8080/",
          "height": 115
        },
        "id": "4VhuDUilSaBK",
        "outputId": "9dfe98f2-7d8a-400a-a26a-b53e76cae1a6"
      },
      "outputs": [
        {
          "name": "stdout",
          "output_type": "stream",
          "text": [
            "GradientBoostClassifier training score: 0.753\n",
            "GradientBoostClassifier test score: 0.753\n"
          ]
        },
        {
          "data": {
            "text/html": [
              "<div>\n",
              "<style scoped>\n",
              "    .dataframe tbody tr th:only-of-type {\n",
              "        vertical-align: middle;\n",
              "    }\n",
              "\n",
              "    .dataframe tbody tr th {\n",
              "        vertical-align: top;\n",
              "    }\n",
              "\n",
              "    .dataframe thead th {\n",
              "        text-align: right;\n",
              "    }\n",
              "</style>\n",
              "<table border=\"1\" class=\"dataframe\">\n",
              "  <thead>\n",
              "    <tr style=\"text-align: right;\">\n",
              "      <th></th>\n",
              "      <th>CRS_ELAPSED_TIME</th>\n",
              "      <th>AIR_TIME</th>\n",
              "      <th>DISTANCE</th>\n",
              "    </tr>\n",
              "  </thead>\n",
              "  <tbody>\n",
              "    <tr>\n",
              "      <th>0</th>\n",
              "      <td>0.082619</td>\n",
              "      <td>0.859898</td>\n",
              "      <td>0.057483</td>\n",
              "    </tr>\n",
              "  </tbody>\n",
              "</table>\n",
              "</div>"
            ],
            "text/plain": [
              "   CRS_ELAPSED_TIME  AIR_TIME  DISTANCE\n",
              "0          0.082619  0.859898  0.057483"
            ]
          },
          "metadata": {},
          "output_type": "display_data"
        }
      ],
      "source": [
        "from sklearn.ensemble import GradientBoostingClassifier\n",
        "ens_boost = GradientBoostingClassifier(n_estimators=10, learning_rate=1)\n",
        "ens_boost.fit(X_train, y_train)\n",
        "print(\"GradientBoostClassifier training score: {:.3f}\".format(ens_boost.score(X_train,y_train)))\n",
        "print(\"GradientBoostClassifier test score: {:.3f}\".format(ens_boost.score(X_test,y_test)))\n",
        "display(pd.DataFrame([ens_boost.feature_importances_],columns=X.columns))"
      ],
      "id": "4VhuDUilSaBK"
    },
    {
      "cell_type": "markdown",
      "metadata": {
        "id": "gJDvYpYxTsHa"
      },
      "source": [
        "From all models, the GradientBoostingClassifier has the highest test and training score without the threat of overfitting. That is why we will evaluate this model with the confusion matrix."
      ],
      "id": "gJDvYpYxTsHa"
    },
    {
      "cell_type": "code",
      "execution_count": null,
      "metadata": {
        "colab": {
          "base_uri": "https://localhost:8080/",
          "height": 542
        },
        "id": "JgZ7UZrwSkly",
        "outputId": "9ffad886-0aa1-46da-903b-d716804df78e"
      },
      "outputs": [
        {
          "data": {
            "text/plain": [
              "Text(0.5, 427.9555555555555, 'Predicted label')"
            ]
          },
          "execution_count": 124,
          "metadata": {},
          "output_type": "execute_result"
        },
        {
          "data": {
            "image/png": "[encoded data removed]",
            "text/plain": [
              "<Figure size 640x480 with 2 Axes>"
            ]
          },
          "metadata": {},
          "output_type": "display_data"
        }
      ],
      "source": [
        "#construct confusiton matrix \n",
        "from sklearn import metrics\n",
        "y_pred=logreg.predict(X_test)\n",
        "cnf_matrix = metrics.confusion_matrix(y_test, y_pred)\n",
        "\n",
        "import numpy as np\n",
        "import seaborn as sns\n",
        "plt.style.use('default')\n",
        "\n",
        "class_names=[0,1] \n",
        "fig, ax = plt.subplots()\n",
        "tick_marks = np.arange(len(class_names))\n",
        "plt.xticks(tick_marks, class_names)\n",
        "plt.yticks(tick_marks, class_names)\n",
        "\n",
        "# create heatmap\n",
        "sns.heatmap(pd.DataFrame(cnf_matrix), annot=True, cmap=\"YlGnBu\" ,fmt='g')\n",
        "ax.xaxis.set_label_position(\"top\")\n",
        "plt.tight_layout()\n",
        "plt.title('Confusion matrix', y=1.1)\n",
        "plt.ylabel('Actual label')\n",
        "plt.xlabel('Predicted label')"
      ],
      "id": "JgZ7UZrwSkly"
    },
    {
      "cell_type": "code",
      "execution_count": null,
      "metadata": {
        "colab": {
          "base_uri": "https://localhost:8080/"
        },
        "id": "SN6w4JZdSq1u",
        "outputId": "e7d02dc8-c7f8-4f37-91a5-efede89691cc"
      },
      "outputs": [
        {
          "name": "stdout",
          "output_type": "stream",
          "text": [
            "Normalized confusion matrix: \n",
            "[[0.99740703 0.00259297]\n",
            " [0.9654165  0.0345835 ]]\n"
          ]
        }
      ],
      "source": [
        "conf = metrics.confusion_matrix(y_test, y_pred, normalize='true')\n",
        "print(\"Normalized confusion matrix: \\n{}\".format(conf))"
      ],
      "id": "SN6w4JZdSq1u"
    },
    {
      "cell_type": "markdown",
      "metadata": {
        "id": "yK7T2usnTvsQ"
      },
      "source": [
        "As shown in the confusion matrix, the normalized one better visualizes that it the model has a high True Positive and low False Positive."
      ],
      "id": "yK7T2usnTvsQ"
    },
    {
      "cell_type": "code",
      "execution_count": null,
      "metadata": {
        "colab": {
          "base_uri": "https://localhost:8080/"
        },
        "id": "CpPwntgNSsHJ",
        "outputId": "bb2ca7e2-204c-4b53-8d4a-97d1d8fcb922"
      },
      "outputs": [
        {
          "name": "stdout",
          "output_type": "stream",
          "text": [
            "Precision: 0.824\n",
            "Recall: 0.035\n",
            "Accuracy: 0.748\n"
          ]
        }
      ],
      "source": [
        "print(\"Precision: {:.3f}\".format(metrics.precision_score(y_test, y_pred)))\n",
        "print(\"Recall: {:.3f}\".format(metrics.recall_score(y_test, y_pred)))\n",
        "print(\"Accuracy: {:.3f}\".format(metrics.accuracy_score(y_test, y_pred)))"
      ],
      "id": "CpPwntgNSsHJ"
    },
    {
      "cell_type": "markdown",
      "metadata": {
        "id": "L4tRSkkzTyBX"
      },
      "source": [
        "Precision and Accuracy is very high which implies great strength of the model. However since Precision is so high the Recall value is lower. That means that the GradientBoostingClassifier would predict more short delays than it actaully happens. This might be costly for the airport coordination and hence more adjustment and feature enginnering would be necessary to increase this metric.\n",
        "\n",
        "Based on the coefficients of the logistic regression, none of the chosen variables have a high coefficient meaning that they are all pretty bad predictors of whether a flight is a short or long delay. \n",
        "\n",
        "However, using decision tree and gradient boosting classifiers, we can still improve our classification model. \n",
        "\n",
        "Looking at the decision tree, air time has the highest of feature importance in determining whether a flight is more likely to have a short or long delay. In contrast, distance and CRS_elapsed time have a value close to 0 indicating that these features were not important to conduct this model. \n",
        "\n",
        "Looking at Gradient Boosting Classifier, air time features have the highest degree of importance. This makes sense as longer air time flights have a higher proabibility of being delayed by weather and other factors that can cause the flight to take longer than expected. \n",
        "\n",
        "To get even more accurate predictions, we can add additonal integer type variables to the model aswell as standardizing each of the variables."
      ],
      "id": "L4tRSkkzTyBX"
    },
    {
      "cell_type": "markdown",
      "metadata": {
        "id": "e53677c5"
      },
      "source": [
        "## Problem 4 [4 points]\n",
        "\n",
        "Consider we want to cluster airports depending on their properties, such as average number of flights per day, delays, cancellations, etc.\n",
        "\n",
        "Measure the quality of your clustering result."
      ],
      "id": "e53677c5"
    },
    {
      "cell_type": "code",
      "execution_count": null,
      "metadata": {
        "id": "jLHka7ZHVdkl"
      },
      "outputs": [],
      "source": [
        "import pyspark.sql.functions as func\n",
        "from pyspark import SparkContext\n",
        "from pyspark.sql import SparkSession\n",
        "from pyspark.ml.feature import PCA\n",
        "from pyspark.ml.linalg import Vectors\n",
        "from pyspark.mllib.regression import LabeledPoint\n",
        "from pyspark.mllib.util import MLUtils\n",
        "import numpy as np\n",
        "from pyspark.ml.feature import StandardScaler\n",
        "import pyspark.sql.functions as f\n",
        "import pyspark.sql.types\n",
        "import pandas as pd\n",
        "from pyspark.sql import Row\n",
        "spark = SparkSession.builder.getOrCreate()\n",
        "sc = SparkContext.getOrCreate()\n",
        "from pyspark.ml.feature import VectorAssembler\n",
        "from pyspark.ml.functions import vector_to_array\n",
        "\n",
        "#MAKE FEATURES OF THE AIRPORTS INTEGER VALUES SO THAT THEY CAN BE USED IN K-MEANS CLUSTERING \n",
        "#FOR THE PURPOSES OF OUR CLUSTERING MODEL WE WILL BE USING TOTAL FLIGHTS AND MEAN FLIGHTS PER DAY, MEAN ARRIVAL DELAY, MEAN DEPARTURE DELAY, MEAN CANCELLATIONS, MEAN DISTANCE AND MEAN AIRTIME\n",
        "\n",
        "\n",
        "#BY AIRPORT, CALCULATE SUM OF FLIGHTS AND MEAN OF FLIGHTS PER DAY\n",
        "\n",
        "DATE_ORI_DF = spark.sql(\"SELECT ORIGIN, FL_DATE, count(*) AS count_origin_by_date FROM flights GROUP BY ORIGIN, FL_DATE\").createOrReplaceTempView(\"org_flights\")\n",
        "DATE_DEST_DF = spark.sql(\"SELECT DEST, FL_DATE, count(*) AS count_dest_by_date FROM flights GROUP BY DEST, FL_DATE\").createOrReplaceTempView(\"dest_flights\")\n",
        "    \n",
        "airport_flights = spark.sql(\"SELECT org.ORIGIN AS AIRPORT, org.FL_DATE, count_origin_by_date, dest.count_dest_by_date from org_flights org, dest_flights dest WHERE org.FL_DATE == dest.FL_DATE and org.ORIGIN == dest.DEST\")\n",
        "\n",
        "airport_flights = airport_flights.withColumn(\"number_of_total_flights\", col(\"count_origin_by_date\") + col(\"count_dest_by_date\"))\\\n",
        "            .select(\"Airport\", \"number_of_total_flights\")\n",
        "\n",
        "flight_counts = airport_flights.groupBy(\"Airport\").sum(\"number_of_total_flights\").withColumnRenamed(\"sum(number_of_total_flights)\", \"Sum_of_flights_dep_arr\")\n",
        "flight_counts = flight_counts.withColumn(\"Sum_of_flights_dep_arr\", func.round(flight_counts[\"Sum_of_flights_dep_arr\"]).cast('integer')).createOrReplaceTempView(\"flight_counts\")\n",
        "\n",
        "flights_mean = airport_flights.groupBy(\"Airport\").mean(\"number_of_total_flights\").withColumnRenamed(\"avg(number_of_total_flights)\", \"Average_flights_dep_arr_per_day\")\n",
        "flights_mean = flights_mean.withColumn(\"Average_flights_dep_arr_per_day\", func.round(flights_mean[\"Average_flights_dep_arr_per_day\"]).cast('integer')).createOrReplaceTempView(\"flights_mean\")\n",
        "\n"
      ],
      "id": "jLHka7ZHVdkl"
    },
    {
      "cell_type": "code",
      "execution_count": null,
      "metadata": {
        "id": "aXR7bgj5oPtZ"
      },
      "outputs": [],
      "source": [
        "#BY AIRPORT, MEAN DEPARTURE DELAY\n",
        "spark.sql(\"\"\"SELECT * FROM flights\"\"\").withColumn(\"IMP_DEP_DELAY\", when(col(\"DEP_DELAY\") < 0, 0)\\\n",
        "                                     .otherwise(col(\"DEP_DELAY\"))).createOrReplaceTempView(\"delays_dep\")\n",
        "\n",
        "mean_dep_delay = spark.sql(\"\"\"SELECT dp.ORIGIN AS Airport, MEAN(dp.IMP_DEP_DELAY) AS Avg_Dep_Delay\n",
        "            FROM delays_dep dp\n",
        "            GROUP BY Airport\"\"\")\n",
        "\n",
        "mean_dep_delay = mean_dep_delay.withColumn(\"Avg_Dep_Delay\", func.round(mean_dep_delay[\"Avg_Dep_Delay\"]).cast('integer')).createOrReplaceTempView(\"mean_dep_delay\")\n",
        "\n",
        "\n",
        "#BY AIRPORT, MEAN ARRIVAL DELAY\n",
        "spark.sql(\"\"\"SELECT * FROM flights\"\"\").withColumn(\"IMP_ARR_DELAY\", when(col(\"ARR_DELAY\") < 0, 0)\\\n",
        "                                     .otherwise(col(\"ARR_DELAY\"))).createOrReplaceTempView(\"delays_arr\")\n",
        "\n",
        "mean_arr_delay = spark.sql(\"\"\"SELECT da.DEST AS Airport, MEAN(da.IMP_ARR_DELAY) AS Avg_Arr_Delay\n",
        "            FROM delays_arr da\n",
        "            GROUP BY Airport\"\"\")\n",
        "mean_arr_delay = mean_arr_delay.withColumn(\"Avg_Arr_Delay\", func.round(mean_arr_delay[\"Avg_Arr_Delay\"]).cast('integer')).createOrReplaceTempView(\"mean_arr_delay\")\n"
      ],
      "id": "aXR7bgj5oPtZ"
    },
    {
      "cell_type": "code",
      "execution_count": null,
      "metadata": {
        "id": "E0vFnuxeqmHW"
      },
      "outputs": [],
      "source": [
        "#BY AIRPORT, MEAN DISTANCE OF FLIGHTS\n",
        "mean_distance = spark.sql(\"\"\"SELECT f.ORIGIN AS Airport, MEAN(f.DISTANCE) AS mean_distance_of_flight\n",
        "            FROM flights f\n",
        "            GROUP BY Airport\"\"\")\n",
        "mean_distance = mean_distance.withColumn(\"mean_distance_of_flight\", func.round(mean_distance[\"mean_distance_of_flight\"]).cast('integer')).createOrReplaceTempView(\"mean_distance\")\n",
        "\n",
        "#BY AIRPORT, MEAN CANCELLATION \n",
        "mean_cancelled = spark.sql(\"\"\"SELECT f.ORIGIN AS Airport, MEAN(f.CANCELLED) AS mean_flights_cancelled\n",
        "            FROM flights f\n",
        "            GROUP BY Airport\"\"\")\n",
        "mean_cancelled = mean_cancelled.withColumn(\"mean_flights_cancelled\", func.round(mean_cancelled[\"mean_flights_cancelled\"]).cast('integer')).createOrReplaceTempView(\"mean_cancelled\")\n"
      ],
      "id": "E0vFnuxeqmHW"
    },
    {
      "cell_type": "code",
      "execution_count": null,
      "metadata": {
        "id": "_DS9HvwvTzc9"
      },
      "outputs": [],
      "source": [
        "# MERGING FEATURES INTO ONE TABLE\n",
        "features_airports = spark.sql(\"\"\"SELECT fc.Airport, fc.Sum_of_flights_dep_arr, fm.Average_flights_dep_arr_per_day, mdd.Avg_Dep_Delay, mad.Avg_Arr_Delay, md.mean_distance_of_flight, mc.mean_flights_cancelled\n",
        "                            FROM flight_counts fc\n",
        "                            LEFT JOIN flights_mean fm ON fc.Airport = fm.Airport\n",
        "                            LEFT JOIN mean_dep_delay mdd ON fc.Airport = mdd.Airport\n",
        "                            LEFT JOIN mean_arr_delay mad ON fc.Airport = mad.Airport\n",
        "                            LEFT JOIN mean_distance md ON fc.Airport = md.Airport\n",
        "                            LEFT JOIN mean_cancelled mc ON fc.Airport = mc.Airport\n",
        "                            ORDER BY Airport\"\"\")"
      ],
      "id": "_DS9HvwvTzc9"
    },
    {
      "cell_type": "code",
      "execution_count": null,
      "metadata": {
        "colab": {
          "base_uri": "https://localhost:8080/"
        },
        "id": "nQc_X7ezUH2e",
        "outputId": "5a1642a9-e2f6-4090-a44d-d78d033cd4b9"
      },
      "outputs": [
        {
          "name": "stdout",
          "output_type": "stream",
          "text": [
            "+-------+-----------------------------------+\n",
            "|Airport|features_merged                    |\n",
            "+-------+-----------------------------------+\n",
            "|ABE    |[2237.0,17.0,17.0,18.0,594.0,0.0]  |\n",
            "|ABI    |[1432.0,12.0,15.0,16.0,158.0,0.0]  |\n",
            "|ABQ    |[20726.0,154.0,12.0,12.0,695.0,0.0]|\n",
            "|ABR    |[416.0,4.0,5.0,6.0,257.0,0.0]      |\n",
            "|ABY    |[722.0,5.0,13.0,16.0,145.0,0.0]    |\n",
            "+-------+-----------------------------------+\n",
            "only showing top 5 rows\n",
            "\n"
          ]
        }
      ],
      "source": [
        "#USE VECTOR ASSEMBLY TO CREATE ONE COLUMN (VECTOR) FOR ALL OF THE FEATURES \n",
        "keep = features_airports.drop('Airport').columns\n",
        "assembler = VectorAssembler(inputCols=keep, outputCol = 'features_merged')\n",
        "vector_dat = assembler.transform(features_airports).select('Airport', 'features_merged')\n",
        "vector_dat.show(5, truncate = False)"
      ],
      "id": "nQc_X7ezUH2e"
    },
    {
      "cell_type": "code",
      "execution_count": null,
      "metadata": {
        "colab": {
          "base_uri": "https://localhost:8080/"
        },
        "id": "hzAkYYYMUHko",
        "outputId": "13bbbbbc-6ad7-4b9b-dd12-75bed7aeaa6c"
      },
      "outputs": [
        {
          "name": "stdout",
          "output_type": "stream",
          "text": [
            "+-------+--------------------------------------------------------------------------------------------------------+\n",
            "|Airport|features_scaled                                                                                         |\n",
            "+-------+--------------------------------------------------------------------------------------------------------+\n",
            "|ABE    |[-10573.612466124661,-79.16802168021677,3.50948509485095,4.021680216802164,90.33604336043373,0.0]       |\n",
            "|ABI    |[-11378.612466124661,-84.16802168021677,1.50948509485095,2.0216802168021637,-345.66395663956627,0.0]    |\n",
            "|ABQ    |[7915.387533875339,57.83197831978323,-1.49051490514905,-1.9783197831978363,191.33604336043373,0.0]      |\n",
            "|ABR    |[-12394.612466124661,-92.16802168021677,-8.49051490514905,-7.978319783197836,-246.66395663956627,0.0]   |\n",
            "|ABY    |[-12088.612466124661,-91.16802168021677,-0.49051490514905005,2.0216802168021637,-358.66395663956627,0.0]|\n",
            "+-------+--------------------------------------------------------------------------------------------------------+\n",
            "only showing top 5 rows\n",
            "\n"
          ]
        }
      ],
      "source": [
        "# USE SCALER TO CENTER THE DATA\n",
        "scaler = StandardScaler(inputCol=\"features_merged\", outputCol=\"features_scaled\", withStd=False, withMean=True)\n",
        "\n",
        "# COMPUTE SUMMARY STATS\n",
        "scalerModel = scaler.fit(vector_dat)\n",
        "\n",
        "# NORMALIZE FEATURES TO INCLUDE SD\n",
        "scaledData = scalerModel.transform(vector_dat)\n",
        "scaledData.select(['Airport', 'features_scaled']).show(5, truncate = False)"
      ],
      "id": "hzAkYYYMUHko"
    },
    {
      "cell_type": "code",
      "execution_count": null,
      "metadata": {
        "colab": {
          "base_uri": "https://localhost:8080/"
        },
        "id": "q22JfSltUHNw",
        "outputId": "92da181e-fd18-4ac3-fe72-c0a491972380"
      },
      "outputs": [
        {
          "name": "stdout",
          "output_type": "stream",
          "text": [
            "+-------+--------------------+--------------------+--------------------+\n",
            "|Airport|     features_merged|     features_scaled|        features_PCA|\n",
            "+-------+--------------------+--------------------+--------------------+\n",
            "|    ABE|[2237.0,17.0,17.0...|[-10573.612466124...|[10573.5056262976...|\n",
            "|    ABI|[1432.0,12.0,15.0...|[-11378.612466124...|[11380.1165305711...|\n",
            "|    ABQ|[20726.0,154.0,12...|[7915.38753387533...|[-7916.2480887625...|\n",
            "|    ABR|[416.0,4.0,5.0,6....|[-12394.612466124...|[12395.7776182583...|\n",
            "|    ABY|[722.0,5.0,13.0,1...|[-12088.612466124...|[12090.1918539652...|\n",
            "|    ACK|[1252.0,9.0,20.0,...|[-11558.612466124...|[11559.9856240810...|\n",
            "|    ACT|[1018.0,10.0,17.0...|[-11792.612466124...|[11794.3522424196...|\n",
            "|    ACV|[1796.0,14.0,24.0...|[-11014.612466124...|[11015.7871430210...|\n",
            "|    ACY|[1413.0,13.0,18.0...|[-11397.612466124...|[11396.8239438273...|\n",
            "|    ADK|[76.0,2.0,15.0,11...|[-12734.612466124...|[12732.3466314579...|\n",
            "|    ADQ|[488.0,4.0,10.0,7...|[-12322.612466124...|[12323.7947037250...|\n",
            "|    AEX|[2392.0,18.0,14.0...|[-10418.612466124...|[10419.4511431821...|\n",
            "|    AGS|[2273.0,17.0,19.0...|[-10537.612466124...|[10539.0934612723...|\n",
            "|    AKN|[270.0,2.0,10.0,5...|[-12540.612466124...|[12541.6735267845...|\n",
            "|    ALB|[7697.0,57.0,13.0...|[-5113.6124661246...|[5113.07279689252...|\n",
            "|    ALO|[356.0,3.0,11.0,1...|[-12454.612466124...|[12455.8893626674...|\n",
            "|    AMA|[4529.0,34.0,14.0...|[-8281.6124661246...|[8282.18897640194...|\n",
            "|    ANC|[18158.0,135.0,8....|[5347.38753387533...|[-5351.0451415760...|\n",
            "|    APN|[316.0,4.0,17.0,6...|[-12494.612466124...|[12495.9063078301...|\n",
            "|    ART|[102.0,3.0,12.0,1...|[-12708.612466124...|[12708.4482950595...|\n",
            "+-------+--------------------+--------------------+--------------------+\n",
            "only showing top 20 rows\n",
            "\n"
          ]
        }
      ],
      "source": [
        "#APPLY PCA \n",
        "pca = PCA(k=2, inputCol = scaler.getOutputCol(), outputCol=\"features_PCA\")\n",
        "\n",
        "model = pca.fit(scaledData)\n",
        "feature_transform = model.transform(scaledData)\n",
        "feature_transform.show()"
      ],
      "id": "q22JfSltUHNw"
    },
    {
      "cell_type": "code",
      "execution_count": null,
      "metadata": {
        "colab": {
          "base_uri": "https://localhost:8080/"
        },
        "id": "-SWPFnZkUGiV",
        "outputId": "416803ca-4927-4dd5-d73e-c9895e2848f3"
      },
      "outputs": [
        {
          "name": "stdout",
          "output_type": "stream",
          "text": [
            "+------------------+-------------------+\n",
            "|             xs[0]|              xs[1]|\n",
            "+------------------+-------------------+\n",
            "| 10573.50562629761|  -129.187595660111|\n",
            "|11380.116530571137| 303.85826208167333|\n",
            "|-7916.248088762564| -162.2516941073145|\n",
            "|12395.777618258398| 201.17714785687463|\n",
            "|12090.191853965236|  314.2574587414967|\n",
            "|11559.985624081002| 263.19277430381874|\n",
            "| 11794.35224241968|  366.3281478802346|\n",
            "| 11015.78714302109|    216.16342033014|\n",
            "|11396.823943827396| -318.2289764921306|\n",
            "|12732.346631457936| -735.0959477204957|\n",
            "|12323.794703725003| 205.42777290514067|\n",
            "|10419.451143182143| 129.39296773609627|\n",
            "|10539.093461272367|  302.9294133569887|\n",
            "|12541.673526784514|   169.632972929601|\n",
            "|5113.0727968925285|-197.11737271424795|\n",
            "|12455.889362667409|  229.9230795895958|\n",
            "| 8282.188976401947|  78.24248410281052|\n",
            "|-5351.045141576052| -947.6561848049149|\n",
            "|12495.906307830182| 236.77953317816997|\n",
            "|12708.448295059523|-161.01679768412487|\n",
            "+------------------+-------------------+\n",
            "only showing top 20 rows\n",
            "\n"
          ]
        }
      ],
      "source": [
        "### Get 2 PCA features\n",
        "\n",
        "PCA_DF = feature_transform.withColumn(\"xs\", vector_to_array(\"features_PCA\")).select([col(\"xs\")[i] for i in range(2)])\n",
        "PCA_DF.show()"
      ],
      "id": "-SWPFnZkUGiV"
    },
    {
      "cell_type": "code",
      "execution_count": null,
      "metadata": {
        "colab": {
          "base_uri": "https://localhost:8080/"
        },
        "id": "yoJeB56WUFv5",
        "outputId": "0ee70b7b-c23c-4708-de9a-c40a2294a833"
      },
      "outputs": [
        {
          "name": "stdout",
          "output_type": "stream",
          "text": [
            "+------------------+------------------+---------------------------------------+\n",
            "|xs[0]             |xs[1]             |features                               |\n",
            "+------------------+------------------+---------------------------------------+\n",
            "|10573.50562629761 |-129.187595660111 |[10573.50562629761,-129.187595660111]  |\n",
            "|11380.116530571137|303.85826208167333|[11380.116530571137,303.85826208167333]|\n",
            "|-7916.248088762564|-162.2516941073145|[-7916.248088762564,-162.2516941073145]|\n",
            "|12395.777618258398|201.17714785687463|[12395.777618258398,201.17714785687463]|\n",
            "|12090.191853965236|314.2574587414967 |[12090.191853965236,314.2574587414967] |\n",
            "+------------------+------------------+---------------------------------------+\n",
            "only showing top 5 rows\n",
            "\n"
          ]
        }
      ],
      "source": [
        "###Combine features with vector\n",
        "cols = PCA_DF.columns\n",
        "\n",
        "assembler = VectorAssembler(inputCols=cols, outputCol = 'features')\n",
        "vector_dat = assembler.transform(PCA_DF).select('xs[0]', 'xs[1]', 'features')\n",
        "vector_dat.show(5, truncate = False)"
      ],
      "id": "yoJeB56WUFv5"
    },
    {
      "cell_type": "code",
      "execution_count": null,
      "metadata": {
        "colab": {
          "background_save": true
        },
        "id": "CAxoVtxuXg0k",
        "outputId": "da14fc90-36e2-4d89-83e1-049b5f0911cb"
      },
      "outputs": [
        {
          "name": "stdout",
          "output_type": "stream",
          "text": [
            "Best number of clusters (k): 7\n",
            "Best cluster quality (silhouette score): 0.8879389553924394\n"
          ]
        }
      ],
      "source": [
        "###DETERMINING THE BEST NUMBER OF CLUSTERS TO USE\n",
        "###TAKES A REALLY LONG TIME TO LOAD (25 MINUTES) BUT BEST K IS 7 WITH CLUSTER QUALITY OF 0.88\n",
        "###FOR THIS PURPOSE I HAVE SET K TO 7\n",
        "\n",
        "\n",
        "from pyspark.ml.clustering import KMeans\n",
        "from pyspark.ml.evaluation import ClusteringEvaluator\n",
        "\n",
        "cluster_qualities = []\n",
        "bestK = 0\n",
        "bestQ = -1\n",
        "#we used for i in range (5,10) initially but seeing as it returns 7, we decreased the range to prevent it running for an extremeley long time (30+ minutes)\n",
        "for i in range(6, 8):\n",
        "  kmeans = KMeans().setK(i).setSeed(1)\n",
        "  model = kmeans.fit(vector_dat)\n",
        "  predictions = model.transform(vector_dat)\n",
        "  evaluator = ClusteringEvaluator()\n",
        "  evaluator.setPredictionCol(\"prediction\")\n",
        "  currentQ = evaluator.evaluate(predictions)\n",
        "  cluster_qualities.append(currentQ)\n",
        "  if currentQ > bestQ:\n",
        "    bestQ = currentQ\n",
        "    bestK = i\n",
        "  else:\n",
        "    continue\n",
        "\n",
        "print(\"Best number of clusters (k):\", bestK)\n",
        "print(\"Best cluster quality (silhouette score):\", bestQ)"
      ],
      "id": "CAxoVtxuXg0k"
    },
    {
      "cell_type": "code",
      "execution_count": null,
      "metadata": {
        "colab": {
          "base_uri": "https://localhost:8080/",
          "height": 447
        },
        "id": "7TKQVKZYZWtZ",
        "outputId": "e8a9c884-3534-4a1f-afdb-cc691edcf6e8"
      },
      "outputs": [
        {
          "output_type": "execute_result",
          "data": {
            "text/plain": [
              "[<matplotlib.lines.Line2D at 0x7f120b85bed0>]"
            ]
          },
          "metadata": {},
          "execution_count": 143
        },
        {
          "output_type": "display_data",
          "data": {
            "image/png": "[encoded data removed]",
            "text/plain": [
              "<Figure size 640x480 with 1 Axes>"
            ]
          },
          "metadata": {}
        }
      ],
      "source": [
        "import matplotlib.pyplot as plt\n",
        "#plot was also performed over range (5,10); however due to run-time we changed to (6,8). The highest point on the line graph was at K =7).\n",
        "plt.plot([i for i in range(6, 8)], cluster_qualities)"
      ],
      "id": "7TKQVKZYZWtZ"
    },
    {
      "cell_type": "code",
      "execution_count": null,
      "metadata": {
        "colab": {
          "base_uri": "https://localhost:8080/",
          "height": 562
        },
        "id": "k6MckOwRgaGx",
        "outputId": "bc31799c-c89a-4d81-9790-385838d238e1"
      },
      "outputs": [
        {
          "output_type": "stream",
          "name": "stderr",
          "text": [
            "/usr/local/lib/python3.7/dist-packages/pyspark/sql/pandas/conversion.py:87: UserWarning: toPandas attempted Arrow optimization because 'spark.sql.execution.arrow.pyspark.enabled' is set to true; however, failed by the reason below:\n",
            "  Unsupported type in conversion to Arrow: VectorUDT\n",
            "Attempting non-optimization as 'spark.sql.execution.arrow.pyspark.fallback.enabled' is set to true.\n",
            "  warnings.warn(msg)\n"
          ]
        },
        {
          "output_type": "execute_result",
          "data": {
            "text/plain": [
              "<matplotlib.axes._subplots.AxesSubplot at 0x7f120b5ff810>"
            ]
          },
          "metadata": {},
          "execution_count": 144
        },
        {
          "output_type": "display_data",
          "data": {
            "image/png": "[encoded data removed]",
            "text/plain": [
              "<Figure size 640x480 with 2 Axes>"
            ]
          },
          "metadata": {}
        }
      ],
      "source": [
        "predictionsPD = predictions.toPandas()\n",
        "\n",
        "#Display results, cluster number is assigned to color \n",
        "predictionsPD.plot.scatter(x=\"xs[0]\",y=\"xs[1]\",c=\"prediction\",s=1,cmap='gist_ncar')"
      ],
      "id": "k6MckOwRgaGx"
    },
    {
      "cell_type": "markdown",
      "metadata": {
        "id": "953bacbe"
      },
      "source": [
        ""
      ],
      "id": "953bacbe"
    },
    {
      "cell_type": "markdown",
      "source": [
        "To perform this K-means clustering we started by deciding which features we wanted to cluster airports according. We chose the following properties: count of flights, mean of flights per day, mean dep delay, mean arr delay, mean cancellation and mean distance (a total of 6 variables). We then merged the properties together into one table using left join, then into one column with Vector Assembler. \n",
        "\n",
        "Following this initial cleaning, we scaled and standardized the data before using PCA. PCA reduces the dimensionality of our features to two, allowing us to plot our results. \n",
        "\n",
        "Following PCA, we use from pyspark.ml.clustering import KMeans\n",
        "from pyspark.ml.evaluation import ClusteringEvaluator to determine the optimal number of clusters to use, depending on the cluster quality. So, we built a forloop with range (5,10) and determined K=7 as the optimal number of clusters with the highest cluster quality (88%). To reduce runtimes, we reduced the range to (6,8). \n",
        "\n",
        "We are satisfied with the quality of our clusters but to improve in the future we can include additional features like the average air duration of flights by airport. In addition, we could remove some of the outliers in the datset to get better centered clusters. "
      ],
      "metadata": {
        "id": "UOOUqdTMh2TB"
      },
      "id": "UOOUqdTMh2TB"
    },
    {
      "cell_type": "markdown",
      "metadata": {
        "id": "1f71dae3"
      },
      "source": [
        "## Problem 5 [3 points]\n",
        "\n",
        "We now want to find communities of airports, i.e., airports that are connected based on the flights that exist.\n",
        "\n",
        "Propose an algorithm to solve this problem and plot the communities as a graph. Run the program with and without GPU support."
      ],
      "id": "1f71dae3"
    },
    {
      "cell_type": "code",
      "execution_count": null,
      "metadata": {
        "colab": {
          "base_uri": "https://localhost:8080/"
        },
        "id": "a523508e",
        "outputId": "fd42d854-6318-4033-f90d-168e0a22b6a1"
      },
      "outputs": [
        {
          "output_type": "stream",
          "name": "stdout",
          "text": [
            "+------------------+---------+----------+\n",
            "|                id|org_count|dest_count|\n",
            "+------------------+---------+----------+\n",
            "|(-80.0405,32.8986)|     5954|      5961|\n",
            "|(-84.1945,31.5355)|      361|       361|\n",
            "|(-109.024,44.5202)|      450|       451|\n",
            "|(-112.012,33.4343)|    63831|     63830|\n",
            "| (-119.84,34.4262)|     3176|      3177|\n",
            "|(-135.362,57.0471)|      721|       721|\n",
            "|(-79.7239,34.1854)|       56|        56|\n",
            "| (-139.66,59.5033)|      270|       270|\n",
            "|(-83.2767,30.7825)|      371|       372|\n",
            "|(-87.3954,46.3536)|      307|       308|\n",
            "|(-92.2243,34.7294)|     5211|      5208|\n",
            "| (-159.339,21.976)|     5054|      5054|\n",
            "|(-76.8916,42.1599)|      482|       481|\n",
            "|(-98.4698,29.5337)|    13866|     13868|\n",
            "|(-108.543,45.8077)|     1595|      1600|\n",
            "|(-124.237,41.7802)|      211|       210|\n",
            "|(-81.0581,29.1799)|      826|       828|\n",
            "|(-81.8498,41.4117)|    16651|     16653|\n",
            "|(-124.109,40.9781)|      897|       899|\n",
            "|(-84.5874,42.7787)|      942|       943|\n",
            "+------------------+---------+----------+\n",
            "only showing top 20 rows\n",
            "\n"
          ]
        }
      ],
      "source": [
        "# We followed the advide in the project guidance document, suggesting to cut off routes that account for only ~5% of an airports traffic\n",
        "# This cell is the first step in this preprocessing, where we identify the overall traffic per airport, by simply counting all incoming an outgoing flights\n",
        "\n",
        "\n",
        "flights_per_airp = spark.sql(\"\"\"SELECT origins.id, org_count, dest_count\n",
        "                                FROM \n",
        "                                    (SELECT concat(\"(\", FLOAT(TRIM(SUBSTRING_INDEX(coordinates,',',1))), \",\", FLOAT(TRIM(SUBSTRING_INDEX(coordinates,',',-1))), \")\") as id,\n",
        "                                    COUNT(*) as org_count\n",
        "                                    FROM flights\n",
        "                                    JOIN airports on flights.origin = airports.iata_code\n",
        "                                    GROUP BY id) as origins\n",
        "                                JOIN \n",
        "                                    (SELECT concat(\"(\", FLOAT(TRIM(SUBSTRING_INDEX(airports.coordinates,',',1))), \",\", FLOAT(TRIM(SUBSTRING_INDEX(airports.coordinates,',',-1))), \")\") as id,\n",
        "                                    COUNT(*) as dest_count\n",
        "                                    FROM flights\n",
        "                                    JOIN airports on flights.dest = airports.iata_code\n",
        "                                    GROUP BY id) as destinations\n",
        "                                ON origins.id = destinations.id\"\"\")\n",
        "\n",
        "flights_per_airp.show()\n",
        "flights_per_airp.createOrReplaceTempView(\"airport_totals\")\n"
      ],
      "id": "a523508e"
    },
    {
      "cell_type": "code",
      "execution_count": null,
      "metadata": {
        "colab": {
          "base_uri": "https://localhost:8080/"
        },
        "id": "9uvfq6rrIGzV",
        "outputId": "d2f2a792-2a84-4543-a574-a7c874419f2e"
      },
      "outputs": [
        {
          "output_type": "stream",
          "name": "stdout",
          "text": [
            "+------------------+------------------+-----------+\n",
            "|         origin_id|           dest_id|route_count|\n",
            "+------------------+------------------+-----------+\n",
            "|(-77.4558,38.9445)|(-74.1687,40.6925)|        341|\n",
            "|(-81.8498,41.4117)|(-75.2411,39.8719)|        112|\n",
            "|(-74.1687,40.6925)|(-95.8881,36.1984)|         70|\n",
            "|(-77.4558,38.9445)|(-73.1533,44.4719)|        173|\n",
            "|(-118.408,33.9425)|(-112.012,33.4343)|       3009|\n",
            "|(-87.9048,41.9786)|(-89.6779,39.8441)|        467|\n",
            "|(-84.3503,30.3965)|(-84.4281,33.6367)|        974|\n",
            "| (-93.2218,44.882)|  (-83.994,35.811)|         57|\n",
            "|(-86.7535,33.5629)| (-97.038,32.8968)|        327|\n",
            "| (-90.258,29.9934)|(-71.0052,42.3643)|        155|\n",
            "|(-80.1527,26.0726)|(-84.4281,33.6367)|       2920|\n",
            "|(-84.4281,33.6367)|(-121.591,38.6954)|        277|\n",
            "|(-84.4281,33.6367)|(-73.1533,44.4719)|        126|\n",
            "|(-84.4281,33.6367)| (-96.7592,40.851)|         69|\n",
            "|(-92.5498,31.3274)| (-97.038,32.8968)|        347|\n",
            "| (-93.2218,44.882)|(-77.0377,38.8521)|        782|\n",
            "| (-93.2218,44.882)|(-78.7875,35.8776)|        275|\n",
            "|(-97.6007,35.3931)|(-84.6678,39.0488)|         27|\n",
            "|(-112.012,33.4343)| (-122.375,37.619)|       1878|\n",
            "|(-104.673,39.8617)|(-106.378,31.8072)|        382|\n",
            "+------------------+------------------+-----------+\n",
            "only showing top 20 rows\n",
            "\n"
          ]
        }
      ],
      "source": [
        "# The second step of the preprocessing is to count the flights on each route, that can then be further used to calculate the share of traffic of each route\n",
        "\n",
        "\n",
        "route_counts = spark.sql(\"\"\"SELECT concat(\"(\", FLOAT(TRIM(SUBSTRING_INDEX(airp1.coordinates,',',1))), \",\", FLOAT(TRIM(SUBSTRING_INDEX(airp1.coordinates,',',-1))), \")\") as origin_id,\n",
        "                                   concat(\"(\", FLOAT(TRIM(SUBSTRING_INDEX(airp2.coordinates,',',1))), \",\", FLOAT(TRIM(SUBSTRING_INDEX(airp2.coordinates,',',-1))), \")\") as dest_id,\n",
        "                                   count(*) as route_count\n",
        "                            FROM flights\n",
        "                            JOIN airports as airp1 on flights.origin = airp1.iata_code\n",
        "                            JOIN airports as airp2 on flights.dest = airp2.iata_code\n",
        "                            GROUP BY origin_id, dest_id\"\"\")\n",
        "\n",
        "route_counts.show()\n",
        "route_counts.createOrReplaceTempView(\"route_flights\")"
      ],
      "id": "9uvfq6rrIGzV"
    },
    {
      "cell_type": "code",
      "execution_count": null,
      "metadata": {
        "colab": {
          "base_uri": "https://localhost:8080/"
        },
        "id": "8kIg6J6vTLRh",
        "outputId": "2a533473-fe6d-4b27-e89e-1bd16c6a3732"
      },
      "outputs": [
        {
          "output_type": "stream",
          "name": "stdout",
          "text": [
            "+------------------+------------------+-----------+--------------------+--------------------+\n",
            "|         origin_id|           dest_id|route_count|traffic_share_origin|  traffic_share_dest|\n",
            "+------------------+------------------+-----------+--------------------+--------------------+\n",
            "|(-74.1687,40.6925)|(-80.0405,32.8986)|        528| 0.01196437878135551| 0.08857574232511324|\n",
            "|(-77.4558,38.9445)|(-80.0405,32.8986)|        239|0.010537918871252204|  0.0400939439691327|\n",
            "|(-98.4698,29.5337)|(-112.012,33.4343)|        805|0.058055675753642004|0.012611624627917907|\n",
            "|(-106.609,35.0402)|(-112.012,33.4343)|       1421|  0.1371489238490493|0.022262259125802913|\n",
            "|(-76.6683,39.1754)|(-112.012,33.4343)|        739|0.018798809493525984|0.011577628074573085|\n",
            "|(-115.152,36.0801)|(-112.012,33.4343)|       2501| 0.04519906746426183| 0.03918220272599091|\n",
            "| (-122.309,47.449)|(-112.012,33.4343)|       1984|0.040196118157137646| 0.03108256305812314|\n",
            "|(-117.868,33.6757)|(-112.012,33.4343)|       1709| 0.11003798853905093|0.026774244085853046|\n",
            "|(-94.7139,39.2976)|(-112.012,33.4343)|        780| 0.04213255550153946|0.012219959266802444|\n",
            "|(-121.929,37.3626)|(-112.012,33.4343)|       1367| 0.08006794353657823|0.021416261945793515|\n",
            "|(-121.591,38.6954)|(-112.012,33.4343)|       1341| 0.07995468638206535| 0.02100892997023343|\n",
            "|(-122.598,45.5887)|(-112.012,33.4343)|       1355|0.058838855356289896|0.021228262572458093|\n",
            "|(-90.37,38.748695)|(-112.012,33.4343)|        824| 0.03757924020613855|0.012909290302365659|\n",
            "| (-117.601,34.056)|(-112.012,33.4343)|       1437| 0.17675276752767527| 0.02251292495691681|\n",
            "|(-83.3534,42.2124)|(-112.012,33.4343)|       1164|  0.0232572079362225|0.018235939213535956|\n",
            "|(-106.378,31.8072)|(-112.012,33.4343)|       1065| 0.16397228637413394| 0.01668494438351872|\n",
            "| (-80.9431,35.214)|(-112.012,33.4343)|       1130|0.022759773610747446|0.017703274322418926|\n",
            "|(-74.1687,40.6925)|(-112.012,33.4343)|        926|0.020982982483968186|0.014507284975716747|\n",
            "|(-95.3414,29.9844)|(-112.012,33.4343)|       1174|0.018461151384586354| 0.01839260535798214|\n",
            "| (-97.038,32.8968)|(-112.012,33.4343)|       1704| 0.01781662676048975|0.026695911013629954|\n",
            "+------------------+------------------+-----------+--------------------+--------------------+\n",
            "only showing top 20 rows\n",
            "\n"
          ]
        }
      ],
      "source": [
        "# The third step is to merge both tables to create a column that calculates the share of traffic that each route accounts for the involved airports\n",
        "# For the sake of completeness of the analysis, we do a double merge on both the origin and destination totals, to check whether both fulfill the defined traffic share threshold.\n",
        "# In the threshold calcultion, we consider ingoing and outgoing traffic separately, comparing the share of all incoming flights on one route with all incoming flights of this route`s destination airport.\n",
        "# Note that we are using the threshold of 1%. This is because previous runs with a 5% threshold led to loosing a number of airports.\n",
        "# These are airports, where each single connection is contributing to less than 5% of the overall traffic.\n",
        "# In order to keep these airports in, we reduced our threshold again. We suggest to optimize the threshold further.\n",
        "\n",
        "one_perc = spark.sql(\"\"\"SELECT origin_id, dest_id, route_count, traffic_share_origin, traffic_share_dest\n",
        "                      FROM (SELECT origin_id, dest_id, route_count, airport_totals1.org_count as total_flights_origin, airport_totals1.dest_count, route_count/airport_totals1.org_count as traffic_share_origin,\n",
        "                            route_count/airport_totals2.dest_count as traffic_share_dest\n",
        "                      FROM route_flights\n",
        "                      JOIN airport_totals as airport_totals1 ON origin_id = airport_totals1.id\n",
        "                      JOIN airport_totals as airport_totals2 ON dest_id = airport_totals2.id)\n",
        "                      WHERE traffic_share_origin > 0.01 AND traffic_share_dest > 0.01\"\"\")\n",
        "\n",
        "one_perc.show()\n",
        "\n",
        "one_perc.createOrReplaceTempView(\"one_perc\")"
      ],
      "id": "8kIg6J6vTLRh"
    },
    {
      "cell_type": "code",
      "execution_count": null,
      "metadata": {
        "colab": {
          "base_uri": "https://localhost:8080/"
        },
        "id": "NEt1ukwgHQ81",
        "outputId": "92942411-7ada-461d-8586-01a0ce6457b9"
      },
      "outputs": [
        {
          "output_type": "stream",
          "name": "stdout",
          "text": [
            "+--------+-------+------------------+-----------------+--------+-------+\n",
            "|src_long|src_lat|               src|              dst|dst_long|dst_lat|\n",
            "+--------+-------+------------------+-----------------+--------+-------+\n",
            "|-112.012|33.4343|(-112.012,33.4343)|(-122.375,37.619)|-122.375| 37.619|\n",
            "|-112.012|33.4343|(-112.012,33.4343)|(-122.375,37.619)|-122.375| 37.619|\n",
            "|-112.012|33.4343|(-112.012,33.4343)|(-122.375,37.619)|-122.375| 37.619|\n",
            "|-112.012|33.4343|(-112.012,33.4343)|(-122.375,37.619)|-122.375| 37.619|\n",
            "|-112.012|33.4343|(-112.012,33.4343)|(-122.375,37.619)|-122.375| 37.619|\n",
            "|-112.012|33.4343|(-112.012,33.4343)|(-122.375,37.619)|-122.375| 37.619|\n",
            "|-112.012|33.4343|(-112.012,33.4343)|(-122.375,37.619)|-122.375| 37.619|\n",
            "|-112.012|33.4343|(-112.012,33.4343)|(-122.375,37.619)|-122.375| 37.619|\n",
            "|-112.012|33.4343|(-112.012,33.4343)|(-122.375,37.619)|-122.375| 37.619|\n",
            "|-112.012|33.4343|(-112.012,33.4343)|(-122.375,37.619)|-122.375| 37.619|\n",
            "|-112.012|33.4343|(-112.012,33.4343)|(-122.375,37.619)|-122.375| 37.619|\n",
            "|-112.012|33.4343|(-112.012,33.4343)|(-122.375,37.619)|-122.375| 37.619|\n",
            "|-112.012|33.4343|(-112.012,33.4343)|(-122.375,37.619)|-122.375| 37.619|\n",
            "|-112.012|33.4343|(-112.012,33.4343)|(-122.375,37.619)|-122.375| 37.619|\n",
            "|-112.012|33.4343|(-112.012,33.4343)|(-122.375,37.619)|-122.375| 37.619|\n",
            "|-112.012|33.4343|(-112.012,33.4343)|(-122.375,37.619)|-122.375| 37.619|\n",
            "|-112.012|33.4343|(-112.012,33.4343)|(-122.375,37.619)|-122.375| 37.619|\n",
            "|-112.012|33.4343|(-112.012,33.4343)|(-122.375,37.619)|-122.375| 37.619|\n",
            "|-112.012|33.4343|(-112.012,33.4343)|(-122.375,37.619)|-122.375| 37.619|\n",
            "|-112.012|33.4343|(-112.012,33.4343)|(-122.375,37.619)|-122.375| 37.619|\n",
            "+--------+-------+------------------+-----------------+--------+-------+\n",
            "only showing top 20 rows\n",
            "\n"
          ]
        }
      ],
      "source": [
        "# Now that we now which routes to drop from the network, we can query the data that we actually need to set up the vector assembler, but exclude the route that do not appear in the five_perc dataset\n",
        "\n",
        "preprocDF = spark.sql(\"\"\"SELECT src_long, src_lat, src, dst, dst_long, dst_lat\n",
        "                      FROM (SELECT FLOAT(TRIM(SUBSTRING_INDEX(airp1.coordinates,',',1))) AS src_long,\n",
        "                                  FLOAT(TRIM(SUBSTRING_INDEX(airp1.coordinates,',',-1))) AS src_lat,\n",
        "                                  concat(\"(\", FLOAT(TRIM(SUBSTRING_INDEX(airp1.coordinates,',',1))), \",\", FLOAT(TRIM(SUBSTRING_INDEX(airp1.coordinates,',',-1))), \")\") as src,\n",
        "                                  concat(\"(\", FLOAT(TRIM(SUBSTRING_INDEX(airp2.coordinates,',',1))), \",\", FLOAT(TRIM(SUBSTRING_INDEX(airp2.coordinates,',',-1))), \")\") as dst,\n",
        "                                  FLOAT(TRIM(SUBSTRING_INDEX(airp2.coordinates,',',1))) AS dst_long,\n",
        "                                  FLOAT(TRIM(SUBSTRING_INDEX(airp2.coordinates,',',-1))) AS dst_lat\n",
        "                            \n",
        "\n",
        "                                  FROM flights JOIN airports as airp1 ON flights.ORIGIN = airp1.iata_code\n",
        "                                  JOIN airports as airp2 ON flights.DEST = airp2.iata_code\n",
        "                                  WHERE cancelled=0\n",
        "                                  AND airp1.continent = 'NA' AND airp1.iso_country = 'US'\n",
        "                                  AND airp2.continent = 'NA' AND airp2.iso_country = 'US'\n",
        "                                  AND airp1.type = 'large_airport' \n",
        "                                  AND airp2.type = 'large_airport')\n",
        "                         \n",
        "                        LEFT JOIN one_perc ON src= one_perc.origin_id AND dst = one_perc.dest_id\n",
        "                        WHERE one_perc.route_count IS NOT NULL\"\"\")\n",
        "\n",
        "preprocDF.show()\n",
        "\n",
        "preprocDF.createOrReplaceTempView(\"data\")\n"
      ],
      "id": "NEt1ukwgHQ81"
    },
    {
      "cell_type": "code",
      "execution_count": null,
      "metadata": {
        "id": "shqJ0fLO1sGI"
      },
      "outputs": [],
      "source": [
        "# creating the edge and vertex dataframes to comply to the graphframes required datastructure\n",
        "\n",
        "edges = spark.sql(\"\"\"SELECT src, dst, \"trip\" from data\"\"\")\n",
        "vertex = spark.sql(\"\"\"SELECT src as id, src_long as longitude,\n",
        "                      src_lat as latitude \n",
        "                      FROM data\n",
        "                      UNION\n",
        "                      SELECT dst as id, dst_long as longitude,\n",
        "                      dst_lat as latitude \n",
        "                      FROM data\"\"\")"
      ],
      "id": "shqJ0fLO1sGI"
    },
    {
      "cell_type": "code",
      "execution_count": null,
      "metadata": {
        "id": "x9prXiHR3Bcd"
      },
      "outputs": [],
      "source": [
        "from graphframes import *\n",
        "\n",
        "\n",
        "# Now we are setting up the flow network and run the labelPropagation algorithm\n",
        "\n",
        "g = GraphFrame(vertex, edges)\n",
        "results = g.labelPropagation(maxIter=5)"
      ],
      "id": "x9prXiHR3Bcd"
    },
    {
      "cell_type": "code",
      "execution_count": null,
      "metadata": {
        "id": "tiu9gzOk5FHK"
      },
      "outputs": [],
      "source": [
        "# Selecting the relevant columns from the results dataframe to plot the community clusters\n",
        "\n",
        "resultDF = results.select(\"id\", \"longitude\", \"latitude\", \"label\")"
      ],
      "id": "tiu9gzOk5FHK"
    },
    {
      "cell_type": "code",
      "execution_count": null,
      "metadata": {
        "colab": {
          "base_uri": "https://localhost:8080/"
        },
        "id": "CSsCIDrrBISE",
        "outputId": "c3ac4f43-8a69-4ad7-9be1-7749d4eb6ec8"
      },
      "outputs": [
        {
          "output_type": "stream",
          "name": "stdout",
          "text": [
            "+------------------+---------+--------+-------------+\n",
            "|                id|longitude|latitude|        label|\n",
            "+------------------+---------+--------+-------------+\n",
            "|(-122.221,37.7213)| -122.221| 37.7213|1537598291968|\n",
            "|(-106.609,35.0402)| -106.609| 35.0402|1537598291968|\n",
            "|(-112.012,33.4343)| -112.012| 33.4343|1537598291968|\n",
            "|(-81.6879,30.4941)| -81.6879| 30.4941| 584115552256|\n",
            "|(-80.0405,32.8986)| -80.0405| 32.8986| 584115552256|\n",
            "| (-117.19,32.7336)|  -117.19| 32.7336|1537598291968|\n",
            "|(-80.2329,40.4915)| -80.2329| 40.4915| 584115552256|\n",
            "|(-96.8518,32.8471)| -96.8518| 32.8471|1537598291968|\n",
            "|(-101.823,33.6636)| -101.823| 33.6636| 584115552256|\n",
            "|(-121.591,38.6954)| -121.591| 38.6954|1537598291968|\n",
            "|(-115.152,36.0801)| -115.152| 36.0801|1537598291968|\n",
            "|(-80.0956,26.6832)| -80.0956| 26.6832| 584115552256|\n",
            "|(-84.3503,30.3965)| -84.3503| 30.3965| 584115552256|\n",
            "|(-86.6782,36.1245)| -86.6782| 36.1245| 584115552256|\n",
            "|(-84.6678,39.0488)| -84.6678| 39.0488| 584115552256|\n",
            "|(-78.7875,35.8776)| -78.7875| 35.8776| 584115552256|\n",
            "| (-85.736,38.1744)|  -85.736| 38.1744| 584115552256|\n",
            "|(-77.6724,43.1189)| -77.6724| 43.1189| 584115552256|\n",
            "|(-76.6683,39.1754)| -76.6683| 39.1754| 584115552256|\n",
            "|(-76.1063,43.1112)| -76.1063| 43.1112| 584115552256|\n",
            "+------------------+---------+--------+-------------+\n",
            "only showing top 20 rows\n",
            "\n"
          ]
        }
      ],
      "source": [
        "resultDF.show()"
      ],
      "id": "CSsCIDrrBISE"
    },
    {
      "cell_type": "code",
      "execution_count": null,
      "metadata": {
        "colab": {
          "base_uri": "https://localhost:8080/",
          "height": 482
        },
        "id": "cnwkWFbMBY-H",
        "outputId": "4213f2d8-581f-4fa8-8a11-1ed8681cc722"
      },
      "outputs": [
        {
          "output_type": "execute_result",
          "data": {
            "text/plain": [
              "<matplotlib.axes._subplots.AxesSubplot at 0x7f120b45f810>"
            ]
          },
          "metadata": {},
          "execution_count": 153
        },
        {
          "output_type": "display_data",
          "data": {
            "image/png": "[encoded data removed]",
            "text/plain": [
              "<Figure size 640x480 with 2 Axes>"
            ]
          },
          "metadata": {}
        }
      ],
      "source": [
        "airportLocPD = resultDF.toPandas()\n",
        "airportLocPD.plot(x=\"longitude\",y=\"latitude\",c=\"label\",s=10,cmap=\"rainbow\",kind=\"scatter\")"
      ],
      "id": "cnwkWFbMBY-H"
    },
    {
      "cell_type": "markdown",
      "metadata": {
        "id": "fc569949"
      },
      "source": [
        "#### Discussion\n",
        "\n",
        "**Explain your code and discuss results**\n",
        "\n",
        "We chose the labelPropagation implementation in Graphframes for the community detection task.\n",
        "We chose this algorithm mostly for the reason of simplicity, as there is an implementation available in the Graphframes extention, and the algorithm comes up with community labels directly. The triangle-count algorithm would for example only identify the count of triangles for each vertex, based on which one would have to further analyse the community structure.\n",
        "\n",
        "Further we decided to only include the mainland US airports in our community detection analysis, because we expect the remote airports to distort the algorithm slightly and those airports to be of minor importance to the overall network. Only including airports on mainland US also reduces the range of the longitude and latitude values to plot and therefore makes the visualisation of the results much more readable.\n",
        "\n",
        "As we can see in the plot the algorithm is identifying two clusters, which mainly correspond to the East and West coast. This makes sense, as we would expect airports within those areas to be the more interconnected. Nevertheless, we suggest to further optimize the threshold value to allow the algorithm to identify more granular clusters. As already explained, we have set a threshold value of 5% first, which resulted in a much larger number of community clusters (6). We were not happy with the loss of some airports though and therefore reduced the threshold again.\n",
        "\n",
        "Ideally, we would have experimented in the preprocessing with different threshold values. For the sake of time management, used the proposed traffic share threshold of 5%, when noticing the loss of a number of airports though we decided to use a threshold of 1%. However, it would be important for the analysis to check the community results if we change the threshold.\n",
        "Since raising the threshold corresponds to \"cleaning\" the network from unimportant route connections, we would expect the result to be more distinguished.\n",
        "\n",
        "\n"
      ],
      "id": "fc569949"
    },
    {
      "cell_type": "code",
      "execution_count": null,
      "metadata": {
        "colab": {
          "base_uri": "https://localhost:8080/"
        },
        "id": "10WNTcGW-5ub",
        "outputId": "9cd16814-adb5-4f5d-ed24-167f3c92b2e9"
      },
      "outputs": [
        {
          "name": "stdout",
          "output_type": "stream",
          "text": [
            "Runtime = 678.580902338028\n"
          ]
        }
      ],
      "source": [
        "start_time = time.time()\n",
        "\n",
        "g = GraphFrame(vertex, edges)\n",
        "results = g.labelPropagation(maxIter=5)\n",
        "\n",
        "\n",
        "end_time = time.time()\n",
        "print( \"Runtime = \" + str(end_time - start_time))"
      ],
      "id": "10WNTcGW-5ub"
    },
    {
      "cell_type": "code",
      "execution_count": null,
      "metadata": {
        "colab": {
          "base_uri": "https://localhost:8080/"
        },
        "id": "3QIVQEING7dM",
        "outputId": "f9dd0b07-67ba-4f6d-e088-574494753d88"
      },
      "outputs": [
        {
          "name": "stdout",
          "output_type": "stream",
          "text": [
            "Runtime = 698.8427171707153\n"
          ]
        }
      ],
      "source": [
        "start_time = time.time()\n",
        "\n",
        "g = GraphFrame(vertex, edges)\n",
        "results = g.labelPropagation(maxIter=5)\n",
        "\n",
        "\n",
        "end_time = time.time()\n",
        "print( \"Runtime = \" + str(end_time - start_time))"
      ],
      "id": "3QIVQEING7dM"
    },
    {
      "cell_type": "markdown",
      "metadata": {
        "id": "45Lky2fXXx5_"
      },
      "source": [
        "We ran the algorithm with and without GPU support and recieved very similiar runtimes. A difference of only 20 seconds, however in both cases the algorithm took over 10 minutes to run. \n",
        "\n"
      ],
      "id": "45Lky2fXXx5_"
    }
  ],
  "metadata": {
    "colab": {
      "collapsed_sections": [],
      "name": "Work Sample_ Flights_usingSpark.ipynb",
      "provenance": []
    },
    "kernelspec": {
      "display_name": "Python 3",
      "language": "python",
      "name": "python3"
    },
    "language_info": {
      "codemirror_mode": {
        "name": "ipython",
        "version": 3
      },
      "file_extension": ".py",
      "mimetype": "text/x-python",
      "name": "python",
      "nbconvert_exporter": "python",
      "pygments_lexer": "ipython3",
      "version": "3.8.8"
    }
  },
  "nbformat": 4,
  "nbformat_minor": 5
}